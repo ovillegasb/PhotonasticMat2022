{
 "cells": [
  {
   "cell_type": "code",
   "execution_count": 1,
   "id": "95a5f2c9",
   "metadata": {},
   "outputs": [],
   "source": [
    "%load_ext autoreload\n",
    "%autoreload 2\n"
   ]
  },
  {
   "cell_type": "markdown",
   "id": "3327b19a",
   "metadata": {},
   "source": [
    "Proceso para construir la topologia de una molecula para GROMACS:\n",
    "\n",
    "   1. Parametros iniciales, un archivo de entrada, y especificar el campo de fuerzas.\n",
    "   \n",
    "   2. Se crea el objeto molecula.\n",
    "   3. Se lee la estructura de entrada.\n",
    "   4. Se busca su conectividad\n",
    "   5. Se asignan los tipos de atomos.\n",
    "   6. Se asignan los parametros del campo de fuerzas.\n",
    "   7. se inprimen en los respectivos programas: Gromacs, Stamp"
   ]
  },
  {
   "cell_type": "code",
   "execution_count": 1,
   "id": "e4374289",
   "metadata": {},
   "outputs": [],
   "source": [
    "from moltools.structure import MOL, ATOM\n",
    "from moltools.ffield import get_atoms_types, get_ffparameters, get_interactions_list\n",
    "from mkitpgmx import save_gro, save_itp\n",
    "from mol2stamp import write_run, fatomes"
   ]
  },
  {
   "cell_type": "code",
   "execution_count": 2,
   "id": "6c81f429",
   "metadata": {},
   "outputs": [],
   "source": [
    "# Se crea la molecula\n",
    "mol = MOL()"
   ]
  },
  {
   "cell_type": "code",
   "execution_count": 3,
   "id": "860a7f10",
   "metadata": {},
   "outputs": [],
   "source": [
    "# Se lee la estructura de entrada.\n",
    "mol.load_file(\"test/xyz/pro.xyz\")"
   ]
  },
  {
   "cell_type": "code",
   "execution_count": 4,
   "id": "5998cc3e",
   "metadata": {},
   "outputs": [
    {
     "data": {
      "text/html": [
       "<div>\n",
       "<style scoped>\n",
       "    .dataframe tbody tr th:only-of-type {\n",
       "        vertical-align: middle;\n",
       "    }\n",
       "\n",
       "    .dataframe tbody tr th {\n",
       "        vertical-align: top;\n",
       "    }\n",
       "\n",
       "    .dataframe thead th {\n",
       "        text-align: right;\n",
       "    }\n",
       "</style>\n",
       "<table border=\"1\" class=\"dataframe\">\n",
       "  <thead>\n",
       "    <tr style=\"text-align: right;\">\n",
       "      <th></th>\n",
       "      <th>atsb</th>\n",
       "      <th>x</th>\n",
       "      <th>y</th>\n",
       "      <th>z</th>\n",
       "      <th>mass</th>\n",
       "      <th>num</th>\n",
       "      <th>charge</th>\n",
       "    </tr>\n",
       "  </thead>\n",
       "  <tbody>\n",
       "    <tr>\n",
       "      <th>0</th>\n",
       "      <td>C</td>\n",
       "      <td>0.49277</td>\n",
       "      <td>1.07569</td>\n",
       "      <td>0.93557</td>\n",
       "      <td>12.011</td>\n",
       "      <td>6</td>\n",
       "      <td>0.0</td>\n",
       "    </tr>\n",
       "    <tr>\n",
       "      <th>1</th>\n",
       "      <td>C</td>\n",
       "      <td>2.00679</td>\n",
       "      <td>1.35460</td>\n",
       "      <td>0.90820</td>\n",
       "      <td>12.011</td>\n",
       "      <td>6</td>\n",
       "      <td>0.0</td>\n",
       "    </tr>\n",
       "    <tr>\n",
       "      <th>2</th>\n",
       "      <td>H</td>\n",
       "      <td>0.00000</td>\n",
       "      <td>1.53677</td>\n",
       "      <td>0.07638</td>\n",
       "      <td>1.008</td>\n",
       "      <td>1</td>\n",
       "      <td>0.0</td>\n",
       "    </tr>\n",
       "    <tr>\n",
       "      <th>3</th>\n",
       "      <td>H</td>\n",
       "      <td>0.04377</td>\n",
       "      <td>1.47317</td>\n",
       "      <td>1.84883</td>\n",
       "      <td>1.008</td>\n",
       "      <td>1</td>\n",
       "      <td>0.0</td>\n",
       "    </tr>\n",
       "    <tr>\n",
       "      <th>4</th>\n",
       "      <td>H</td>\n",
       "      <td>0.30607</td>\n",
       "      <td>0.00000</td>\n",
       "      <td>0.90159</td>\n",
       "      <td>1.008</td>\n",
       "      <td>1</td>\n",
       "      <td>0.0</td>\n",
       "    </tr>\n",
       "    <tr>\n",
       "      <th>5</th>\n",
       "      <td>C</td>\n",
       "      <td>2.30133</td>\n",
       "      <td>2.86518</td>\n",
       "      <td>0.95512</td>\n",
       "      <td>12.011</td>\n",
       "      <td>6</td>\n",
       "      <td>0.0</td>\n",
       "    </tr>\n",
       "    <tr>\n",
       "      <th>6</th>\n",
       "      <td>H</td>\n",
       "      <td>1.85488</td>\n",
       "      <td>3.37209</td>\n",
       "      <td>0.09642</td>\n",
       "      <td>1.008</td>\n",
       "      <td>1</td>\n",
       "      <td>0.0</td>\n",
       "    </tr>\n",
       "    <tr>\n",
       "      <th>7</th>\n",
       "      <td>H</td>\n",
       "      <td>3.37923</td>\n",
       "      <td>3.04076</td>\n",
       "      <td>0.93481</td>\n",
       "      <td>1.008</td>\n",
       "      <td>1</td>\n",
       "      <td>0.0</td>\n",
       "    </tr>\n",
       "    <tr>\n",
       "      <th>8</th>\n",
       "      <td>H</td>\n",
       "      <td>1.89864</td>\n",
       "      <td>3.30850</td>\n",
       "      <td>1.86887</td>\n",
       "      <td>1.008</td>\n",
       "      <td>1</td>\n",
       "      <td>0.0</td>\n",
       "    </tr>\n",
       "    <tr>\n",
       "      <th>9</th>\n",
       "      <td>H</td>\n",
       "      <td>2.43898</td>\n",
       "      <td>0.92772</td>\n",
       "      <td>0.00000</td>\n",
       "      <td>1.008</td>\n",
       "      <td>1</td>\n",
       "      <td>0.0</td>\n",
       "    </tr>\n",
       "    <tr>\n",
       "      <th>10</th>\n",
       "      <td>H</td>\n",
       "      <td>2.48247</td>\n",
       "      <td>0.86454</td>\n",
       "      <td>1.76108</td>\n",
       "      <td>1.008</td>\n",
       "      <td>1</td>\n",
       "      <td>0.0</td>\n",
       "    </tr>\n",
       "  </tbody>\n",
       "</table>\n",
       "</div>"
      ],
      "text/plain": [
       "   atsb        x        y        z    mass  num  charge\n",
       "0     C  0.49277  1.07569  0.93557  12.011    6     0.0\n",
       "1     C  2.00679  1.35460  0.90820  12.011    6     0.0\n",
       "2     H  0.00000  1.53677  0.07638   1.008    1     0.0\n",
       "3     H  0.04377  1.47317  1.84883   1.008    1     0.0\n",
       "4     H  0.30607  0.00000  0.90159   1.008    1     0.0\n",
       "5     C  2.30133  2.86518  0.95512  12.011    6     0.0\n",
       "6     H  1.85488  3.37209  0.09642   1.008    1     0.0\n",
       "7     H  3.37923  3.04076  0.93481   1.008    1     0.0\n",
       "8     H  1.89864  3.30850  1.86887   1.008    1     0.0\n",
       "9     H  2.43898  0.92772  0.00000   1.008    1     0.0\n",
       "10    H  2.48247  0.86454  1.76108   1.008    1     0.0"
      ]
     },
     "execution_count": 4,
     "metadata": {},
     "output_type": "execute_result"
    }
   ],
   "source": [
    "mol.dfatoms"
   ]
  },
  {
   "cell_type": "code",
   "execution_count": 5,
   "id": "93826bb1",
   "metadata": {},
   "outputs": [],
   "source": [
    "# Se busca su conectividad\n",
    "mol.search_connectivity()"
   ]
  },
  {
   "cell_type": "code",
   "execution_count": 6,
   "id": "b28b2c60",
   "metadata": {},
   "outputs": [
    {
     "name": "stdout",
     "output_type": "stream",
     "text": [
      "connectivity with 11 nodes and 20 edges\n"
     ]
    }
   ],
   "source": [
    "print(mol.connect)"
   ]
  },
  {
   "cell_type": "code",
   "execution_count": 7,
   "id": "84fd4c58",
   "metadata": {},
   "outputs": [
    {
     "data": {
      "text/plain": [
       "{'dist': 1.539739090040907}"
      ]
     },
     "execution_count": 7,
     "metadata": {},
     "output_type": "execute_result"
    }
   ],
   "source": [
    "mol.connect[0][1]"
   ]
  },
  {
   "cell_type": "code",
   "execution_count": 8,
   "id": "efc476d0",
   "metadata": {},
   "outputs": [
    {
     "data": {
      "text/plain": [
       "11"
      ]
     },
     "execution_count": 8,
     "metadata": {},
     "output_type": "execute_result"
    }
   ],
   "source": [
    "len(mol.dfatoms)"
   ]
  },
  {
   "cell_type": "code",
   "execution_count": 9,
   "id": "3b847239",
   "metadata": {},
   "outputs": [
    {
     "name": "stdout",
     "output_type": "stream",
     "text": [
      "\u001b[1;35mForce field: GAFF\u001b[m\n",
      "   atsb        x        y        z    mass  num  charge type\n",
      "0     C  0.49277  1.07569  0.93557  12.011    6     0.0   c3\n",
      "1     C  2.00679  1.35460  0.90820  12.011    6     0.0   c3\n",
      "2     H  0.00000  1.53677  0.07638   1.008    1     0.0   hc\n",
      "3     H  0.04377  1.47317  1.84883   1.008    1     0.0   hc\n",
      "4     H  0.30607  0.00000  0.90159   1.008    1     0.0   hc\n",
      "5     C  2.30133  2.86518  0.95512  12.011    6     0.0   c3\n",
      "6     H  1.85488  3.37209  0.09642   1.008    1     0.0   hc\n",
      "7     H  3.37923  3.04076  0.93481   1.008    1     0.0   hc\n",
      "8     H  1.89864  3.30850  1.86887   1.008    1     0.0   hc\n",
      "9     H  2.43898  0.92772  0.00000   1.008    1     0.0   hc\n",
      "10    H  2.48247  0.86454  1.76108   1.008    1     0.0   hc\n"
     ]
    }
   ],
   "source": [
    "get_atoms_types(mol, \"gaff\")"
   ]
  },
  {
   "cell_type": "code",
   "execution_count": 10,
   "id": "e8f59ae3",
   "metadata": {},
   "outputs": [
    {
     "data": {
      "text/html": [
       "<div>\n",
       "<style scoped>\n",
       "    .dataframe tbody tr th:only-of-type {\n",
       "        vertical-align: middle;\n",
       "    }\n",
       "\n",
       "    .dataframe tbody tr th {\n",
       "        vertical-align: top;\n",
       "    }\n",
       "\n",
       "    .dataframe thead th {\n",
       "        text-align: right;\n",
       "    }\n",
       "</style>\n",
       "<table border=\"1\" class=\"dataframe\">\n",
       "  <thead>\n",
       "    <tr style=\"text-align: right;\">\n",
       "      <th></th>\n",
       "      <th>atsb</th>\n",
       "      <th>x</th>\n",
       "      <th>y</th>\n",
       "      <th>z</th>\n",
       "      <th>mass</th>\n",
       "      <th>num</th>\n",
       "      <th>charge</th>\n",
       "      <th>type</th>\n",
       "    </tr>\n",
       "  </thead>\n",
       "  <tbody>\n",
       "    <tr>\n",
       "      <th>0</th>\n",
       "      <td>C</td>\n",
       "      <td>0.49277</td>\n",
       "      <td>1.07569</td>\n",
       "      <td>0.93557</td>\n",
       "      <td>12.011</td>\n",
       "      <td>6</td>\n",
       "      <td>0.0</td>\n",
       "      <td>c3</td>\n",
       "    </tr>\n",
       "    <tr>\n",
       "      <th>1</th>\n",
       "      <td>C</td>\n",
       "      <td>2.00679</td>\n",
       "      <td>1.35460</td>\n",
       "      <td>0.90820</td>\n",
       "      <td>12.011</td>\n",
       "      <td>6</td>\n",
       "      <td>0.0</td>\n",
       "      <td>c3</td>\n",
       "    </tr>\n",
       "    <tr>\n",
       "      <th>2</th>\n",
       "      <td>H</td>\n",
       "      <td>0.00000</td>\n",
       "      <td>1.53677</td>\n",
       "      <td>0.07638</td>\n",
       "      <td>1.008</td>\n",
       "      <td>1</td>\n",
       "      <td>0.0</td>\n",
       "      <td>hc</td>\n",
       "    </tr>\n",
       "    <tr>\n",
       "      <th>3</th>\n",
       "      <td>H</td>\n",
       "      <td>0.04377</td>\n",
       "      <td>1.47317</td>\n",
       "      <td>1.84883</td>\n",
       "      <td>1.008</td>\n",
       "      <td>1</td>\n",
       "      <td>0.0</td>\n",
       "      <td>hc</td>\n",
       "    </tr>\n",
       "    <tr>\n",
       "      <th>4</th>\n",
       "      <td>H</td>\n",
       "      <td>0.30607</td>\n",
       "      <td>0.00000</td>\n",
       "      <td>0.90159</td>\n",
       "      <td>1.008</td>\n",
       "      <td>1</td>\n",
       "      <td>0.0</td>\n",
       "      <td>hc</td>\n",
       "    </tr>\n",
       "    <tr>\n",
       "      <th>5</th>\n",
       "      <td>C</td>\n",
       "      <td>2.30133</td>\n",
       "      <td>2.86518</td>\n",
       "      <td>0.95512</td>\n",
       "      <td>12.011</td>\n",
       "      <td>6</td>\n",
       "      <td>0.0</td>\n",
       "      <td>c3</td>\n",
       "    </tr>\n",
       "    <tr>\n",
       "      <th>6</th>\n",
       "      <td>H</td>\n",
       "      <td>1.85488</td>\n",
       "      <td>3.37209</td>\n",
       "      <td>0.09642</td>\n",
       "      <td>1.008</td>\n",
       "      <td>1</td>\n",
       "      <td>0.0</td>\n",
       "      <td>hc</td>\n",
       "    </tr>\n",
       "    <tr>\n",
       "      <th>7</th>\n",
       "      <td>H</td>\n",
       "      <td>3.37923</td>\n",
       "      <td>3.04076</td>\n",
       "      <td>0.93481</td>\n",
       "      <td>1.008</td>\n",
       "      <td>1</td>\n",
       "      <td>0.0</td>\n",
       "      <td>hc</td>\n",
       "    </tr>\n",
       "    <tr>\n",
       "      <th>8</th>\n",
       "      <td>H</td>\n",
       "      <td>1.89864</td>\n",
       "      <td>3.30850</td>\n",
       "      <td>1.86887</td>\n",
       "      <td>1.008</td>\n",
       "      <td>1</td>\n",
       "      <td>0.0</td>\n",
       "      <td>hc</td>\n",
       "    </tr>\n",
       "    <tr>\n",
       "      <th>9</th>\n",
       "      <td>H</td>\n",
       "      <td>2.43898</td>\n",
       "      <td>0.92772</td>\n",
       "      <td>0.00000</td>\n",
       "      <td>1.008</td>\n",
       "      <td>1</td>\n",
       "      <td>0.0</td>\n",
       "      <td>hc</td>\n",
       "    </tr>\n",
       "    <tr>\n",
       "      <th>10</th>\n",
       "      <td>H</td>\n",
       "      <td>2.48247</td>\n",
       "      <td>0.86454</td>\n",
       "      <td>1.76108</td>\n",
       "      <td>1.008</td>\n",
       "      <td>1</td>\n",
       "      <td>0.0</td>\n",
       "      <td>hc</td>\n",
       "    </tr>\n",
       "  </tbody>\n",
       "</table>\n",
       "</div>"
      ],
      "text/plain": [
       "   atsb        x        y        z    mass  num  charge type\n",
       "0     C  0.49277  1.07569  0.93557  12.011    6     0.0   c3\n",
       "1     C  2.00679  1.35460  0.90820  12.011    6     0.0   c3\n",
       "2     H  0.00000  1.53677  0.07638   1.008    1     0.0   hc\n",
       "3     H  0.04377  1.47317  1.84883   1.008    1     0.0   hc\n",
       "4     H  0.30607  0.00000  0.90159   1.008    1     0.0   hc\n",
       "5     C  2.30133  2.86518  0.95512  12.011    6     0.0   c3\n",
       "6     H  1.85488  3.37209  0.09642   1.008    1     0.0   hc\n",
       "7     H  3.37923  3.04076  0.93481   1.008    1     0.0   hc\n",
       "8     H  1.89864  3.30850  1.86887   1.008    1     0.0   hc\n",
       "9     H  2.43898  0.92772  0.00000   1.008    1     0.0   hc\n",
       "10    H  2.48247  0.86454  1.76108   1.008    1     0.0   hc"
      ]
     },
     "execution_count": 10,
     "metadata": {},
     "output_type": "execute_result"
    }
   ],
   "source": [
    "mol.dftypes"
   ]
  },
  {
   "cell_type": "code",
   "execution_count": 11,
   "id": "d6cdc9fb",
   "metadata": {},
   "outputs": [],
   "source": [
    "get_interactions_list(mol)"
   ]
  },
  {
   "cell_type": "code",
   "execution_count": 12,
   "id": "6eed311b",
   "metadata": {},
   "outputs": [
    {
     "data": {
      "text/html": [
       "<div>\n",
       "<style scoped>\n",
       "    .dataframe tbody tr th:only-of-type {\n",
       "        vertical-align: middle;\n",
       "    }\n",
       "\n",
       "    .dataframe tbody tr th {\n",
       "        vertical-align: top;\n",
       "    }\n",
       "\n",
       "    .dataframe thead th {\n",
       "        text-align: right;\n",
       "    }\n",
       "</style>\n",
       "<table border=\"1\" class=\"dataframe\">\n",
       "  <thead>\n",
       "    <tr style=\"text-align: right;\">\n",
       "      <th></th>\n",
       "      <th>list</th>\n",
       "      <th>types</th>\n",
       "    </tr>\n",
       "  </thead>\n",
       "  <tbody>\n",
       "    <tr>\n",
       "      <th>0</th>\n",
       "      <td>(0, 1, 5, 8)</td>\n",
       "      <td>(c3, c3, c3, hc)</td>\n",
       "    </tr>\n",
       "    <tr>\n",
       "      <th>1</th>\n",
       "      <td>(0, 1, 5, 6)</td>\n",
       "      <td>(c3, c3, c3, hc)</td>\n",
       "    </tr>\n",
       "    <tr>\n",
       "      <th>2</th>\n",
       "      <td>(0, 1, 5, 7)</td>\n",
       "      <td>(c3, c3, c3, hc)</td>\n",
       "    </tr>\n",
       "    <tr>\n",
       "      <th>3</th>\n",
       "      <td>(2, 0, 1, 9)</td>\n",
       "      <td>(hc, c3, c3, hc)</td>\n",
       "    </tr>\n",
       "    <tr>\n",
       "      <th>4</th>\n",
       "      <td>(2, 0, 1, 10)</td>\n",
       "      <td>(hc, c3, c3, hc)</td>\n",
       "    </tr>\n",
       "    <tr>\n",
       "      <th>5</th>\n",
       "      <td>(2, 0, 1, 5)</td>\n",
       "      <td>(hc, c3, c3, c3)</td>\n",
       "    </tr>\n",
       "    <tr>\n",
       "      <th>6</th>\n",
       "      <td>(3, 0, 1, 9)</td>\n",
       "      <td>(hc, c3, c3, hc)</td>\n",
       "    </tr>\n",
       "    <tr>\n",
       "      <th>7</th>\n",
       "      <td>(3, 0, 1, 10)</td>\n",
       "      <td>(hc, c3, c3, hc)</td>\n",
       "    </tr>\n",
       "    <tr>\n",
       "      <th>8</th>\n",
       "      <td>(3, 0, 1, 5)</td>\n",
       "      <td>(hc, c3, c3, c3)</td>\n",
       "    </tr>\n",
       "    <tr>\n",
       "      <th>9</th>\n",
       "      <td>(4, 0, 1, 9)</td>\n",
       "      <td>(hc, c3, c3, hc)</td>\n",
       "    </tr>\n",
       "    <tr>\n",
       "      <th>10</th>\n",
       "      <td>(4, 0, 1, 10)</td>\n",
       "      <td>(hc, c3, c3, hc)</td>\n",
       "    </tr>\n",
       "    <tr>\n",
       "      <th>11</th>\n",
       "      <td>(4, 0, 1, 5)</td>\n",
       "      <td>(hc, c3, c3, c3)</td>\n",
       "    </tr>\n",
       "    <tr>\n",
       "      <th>12</th>\n",
       "      <td>(6, 5, 1, 9)</td>\n",
       "      <td>(hc, c3, c3, hc)</td>\n",
       "    </tr>\n",
       "    <tr>\n",
       "      <th>13</th>\n",
       "      <td>(6, 5, 1, 10)</td>\n",
       "      <td>(hc, c3, c3, hc)</td>\n",
       "    </tr>\n",
       "    <tr>\n",
       "      <th>14</th>\n",
       "      <td>(7, 5, 1, 9)</td>\n",
       "      <td>(hc, c3, c3, hc)</td>\n",
       "    </tr>\n",
       "    <tr>\n",
       "      <th>15</th>\n",
       "      <td>(7, 5, 1, 10)</td>\n",
       "      <td>(hc, c3, c3, hc)</td>\n",
       "    </tr>\n",
       "    <tr>\n",
       "      <th>16</th>\n",
       "      <td>(8, 5, 1, 9)</td>\n",
       "      <td>(hc, c3, c3, hc)</td>\n",
       "    </tr>\n",
       "    <tr>\n",
       "      <th>17</th>\n",
       "      <td>(8, 5, 1, 10)</td>\n",
       "      <td>(hc, c3, c3, hc)</td>\n",
       "    </tr>\n",
       "  </tbody>\n",
       "</table>\n",
       "</div>"
      ],
      "text/plain": [
       "             list             types\n",
       "0    (0, 1, 5, 8)  (c3, c3, c3, hc)\n",
       "1    (0, 1, 5, 6)  (c3, c3, c3, hc)\n",
       "2    (0, 1, 5, 7)  (c3, c3, c3, hc)\n",
       "3    (2, 0, 1, 9)  (hc, c3, c3, hc)\n",
       "4   (2, 0, 1, 10)  (hc, c3, c3, hc)\n",
       "5    (2, 0, 1, 5)  (hc, c3, c3, c3)\n",
       "6    (3, 0, 1, 9)  (hc, c3, c3, hc)\n",
       "7   (3, 0, 1, 10)  (hc, c3, c3, hc)\n",
       "8    (3, 0, 1, 5)  (hc, c3, c3, c3)\n",
       "9    (4, 0, 1, 9)  (hc, c3, c3, hc)\n",
       "10  (4, 0, 1, 10)  (hc, c3, c3, hc)\n",
       "11   (4, 0, 1, 5)  (hc, c3, c3, c3)\n",
       "12   (6, 5, 1, 9)  (hc, c3, c3, hc)\n",
       "13  (6, 5, 1, 10)  (hc, c3, c3, hc)\n",
       "14   (7, 5, 1, 9)  (hc, c3, c3, hc)\n",
       "15  (7, 5, 1, 10)  (hc, c3, c3, hc)\n",
       "16   (8, 5, 1, 9)  (hc, c3, c3, hc)\n",
       "17  (8, 5, 1, 10)  (hc, c3, c3, hc)"
      ]
     },
     "execution_count": 12,
     "metadata": {},
     "output_type": "execute_result"
    }
   ],
   "source": [
    "mol.dfdih"
   ]
  },
  {
   "cell_type": "code",
   "execution_count": 13,
   "id": "bf450488",
   "metadata": {
    "scrolled": false
   },
   "outputs": [
    {
     "name": "stdout",
     "output_type": "stream",
     "text": [
      "   atsb        x        y        z    mass  num  charge type  sigma  epsilon\n",
      "0     C  0.49277  1.07569  0.93557  12.011    6     0.0   c3  1.908   0.1094\n",
      "1     C  2.00679  1.35460  0.90820  12.011    6     0.0   c3  1.908   0.1094\n",
      "2     H  0.00000  1.53677  0.07638   1.008    1     0.0   hc  1.487   0.0157\n",
      "3     H  0.04377  1.47317  1.84883   1.008    1     0.0   hc  1.487   0.0157\n",
      "4     H  0.30607  0.00000  0.90159   1.008    1     0.0   hc  1.487   0.0157\n",
      "5     C  2.30133  2.86518  0.95512  12.011    6     0.0   c3  1.908   0.1094\n",
      "6     H  1.85488  3.37209  0.09642   1.008    1     0.0   hc  1.487   0.0157\n",
      "7     H  3.37923  3.04076  0.93481   1.008    1     0.0   hc  1.487   0.0157\n",
      "8     H  1.89864  3.30850  1.86887   1.008    1     0.0   hc  1.487   0.0157\n",
      "9     H  2.43898  0.92772  0.00000   1.008    1     0.0   hc  1.487   0.0157\n",
      "10    H  2.48247  0.86454  1.76108   1.008    1     0.0   hc  1.487   0.0157\n",
      "      list     types     b0     kb\n",
      "0   (0, 1)  (c3, c3)  1.537  300.9\n",
      "1   (0, 2)  (c3, hc)  1.096  330.6\n",
      "2   (0, 3)  (c3, hc)  1.096  330.6\n",
      "3   (0, 4)  (c3, hc)  1.096  330.6\n",
      "4   (1, 9)  (c3, hc)  1.096  330.6\n",
      "5  (1, 10)  (c3, hc)  1.096  330.6\n",
      "6   (1, 5)  (c3, c3)  1.537  300.9\n",
      "7   (5, 8)  (c3, hc)  1.096  330.6\n",
      "8   (5, 6)  (c3, hc)  1.096  330.6\n",
      "9   (5, 7)  (c3, hc)  1.096  330.6\n",
      "          list         types    th0   kth\n",
      "0    (0, 1, 9)  (c3, c3, hc)  109.8  46.3\n",
      "1   (0, 1, 10)  (c3, c3, hc)  109.8  46.3\n",
      "2    (0, 1, 5)  (c3, c3, c3)  111.5  62.9\n",
      "3    (1, 0, 2)  (c3, c3, hc)  109.8  46.3\n",
      "4    (1, 0, 3)  (c3, c3, hc)  109.8  46.3\n",
      "5    (1, 0, 4)  (c3, c3, hc)  109.8  46.3\n",
      "6    (1, 5, 6)  (c3, c3, hc)  109.8  46.3\n",
      "7    (1, 5, 7)  (c3, c3, hc)  109.8  46.3\n",
      "8    (1, 5, 8)  (c3, c3, hc)  109.8  46.3\n",
      "9    (2, 0, 3)  (hc, c3, hc)  107.5  39.4\n",
      "10   (2, 0, 4)  (hc, c3, hc)  107.5  39.4\n",
      "11   (3, 0, 4)  (hc, c3, hc)  107.5  39.4\n",
      "12   (5, 1, 9)  (c3, c3, hc)  109.8  46.3\n",
      "13  (5, 1, 10)  (c3, c3, hc)  109.8  46.3\n",
      "14   (6, 5, 8)  (hc, c3, hc)  107.5  39.4\n",
      "15   (6, 5, 7)  (hc, c3, hc)  107.5  39.4\n",
      "16   (7, 5, 8)  (hc, c3, hc)  107.5  39.4\n",
      "17  (9, 1, 10)  (hc, c3, hc)  107.5  39.4\n",
      "             list             types  divider    Vn  phi  n\n",
      "0    (0, 1, 5, 8)  (c3, c3, c3, hc)        1  0.16  0.0  3\n",
      "1    (0, 1, 5, 6)  (c3, c3, c3, hc)        1  0.16  0.0  3\n",
      "2    (0, 1, 5, 7)  (c3, c3, c3, hc)        1  0.16  0.0  3\n",
      "3    (2, 0, 1, 9)  (hc, c3, c3, hc)        1  0.15  0.0  3\n",
      "4   (2, 0, 1, 10)  (hc, c3, c3, hc)        1  0.15  0.0  3\n",
      "5    (2, 0, 1, 5)  (hc, c3, c3, c3)        1  0.16  0.0  3\n",
      "6    (3, 0, 1, 9)  (hc, c3, c3, hc)        1  0.15  0.0  3\n",
      "7   (3, 0, 1, 10)  (hc, c3, c3, hc)        1  0.15  0.0  3\n",
      "8    (3, 0, 1, 5)  (hc, c3, c3, c3)        1  0.16  0.0  3\n",
      "9    (4, 0, 1, 9)  (hc, c3, c3, hc)        1  0.15  0.0  3\n",
      "10  (4, 0, 1, 10)  (hc, c3, c3, hc)        1  0.15  0.0  3\n",
      "11   (4, 0, 1, 5)  (hc, c3, c3, c3)        1  0.16  0.0  3\n",
      "12   (6, 5, 1, 9)  (hc, c3, c3, hc)        1  0.15  0.0  3\n",
      "13  (6, 5, 1, 10)  (hc, c3, c3, hc)        1  0.15  0.0  3\n",
      "14   (7, 5, 1, 9)  (hc, c3, c3, hc)        1  0.15  0.0  3\n",
      "15  (7, 5, 1, 10)  (hc, c3, c3, hc)        1  0.15  0.0  3\n",
      "16   (8, 5, 1, 9)  (hc, c3, c3, hc)        1  0.15  0.0  3\n",
      "17  (8, 5, 1, 10)  (hc, c3, c3, hc)        1  0.15  0.0  3\n"
     ]
    }
   ],
   "source": [
    "get_ffparameters(mol, \"gaff\")"
   ]
  },
  {
   "cell_type": "code",
   "execution_count": 13,
   "id": "857f6bc6",
   "metadata": {},
   "outputs": [
    {
     "name": "stdout",
     "output_type": "stream",
     "text": [
      "Saved gro file: met.gro\n"
     ]
    }
   ],
   "source": [
    "save_gro(mol.dftypes, \"MET\")"
   ]
  },
  {
   "cell_type": "code",
   "execution_count": 14,
   "id": "11199ce4",
   "metadata": {},
   "outputs": [
    {
     "name": "stdout",
     "output_type": "stream",
     "text": [
      "Saved itp file: met.itp\n"
     ]
    }
   ],
   "source": [
    "save_itp(mol, \"gaff\", \"MET\")"
   ]
  },
  {
   "cell_type": "code",
   "execution_count": 17,
   "id": "664f79ab",
   "metadata": {},
   "outputs": [
    {
     "data": {
      "text/plain": [
       "0.0"
      ]
     },
     "execution_count": 17,
     "metadata": {},
     "output_type": "execute_result"
    }
   ],
   "source": [
    "mol.dftypes[\"charge\"].sum()"
   ]
  },
  {
   "cell_type": "code",
   "execution_count": 18,
   "id": "d8d2e8ff",
   "metadata": {},
   "outputs": [
    {
     "name": "stdout",
     "output_type": "stream",
     "text": [
      "\n",
      "file \u001b[1;36mDONNEES.in\u001b[m writed\n",
      "\n"
     ]
    }
   ],
   "source": [
    "# Para Stamp\n",
    "\n",
    "options = {\n",
    "    \"Trequis\": 300.0,\n",
    "    \"Deltatemps\": 1.0,  # fs\n",
    "    \"Protection\": 50000,\n",
    "    \"XyzFrequence\": 1000,\n",
    "    \"Parallele\": \"2 2 2\",\n",
    "    \"Decoupage\": \"5 5 5\",\n",
    "    \"XyzFrequence\": 1000,\n",
    "    \"StepLimit\": 100000,  # 100ps\n",
    "    \"drVerlet\": \"2.e-10\"\n",
    "}\n",
    "\n",
    "write_run(**options)"
   ]
  },
  {
   "cell_type": "code",
   "execution_count": 19,
   "id": "f6de5bd5",
   "metadata": {},
   "outputs": [],
   "source": [
    "%more DONNEES.in"
   ]
  },
  {
   "cell_type": "code",
   "execution_count": 20,
   "id": "e8d29036",
   "metadata": {},
   "outputs": [],
   "source": [
    "Fatomes = fatomes()"
   ]
  },
  {
   "cell_type": "code",
   "execution_count": 21,
   "id": "13da2df0",
   "metadata": {},
   "outputs": [],
   "source": [
    "Fatomes.write_atominfo(mol)"
   ]
  },
  {
   "cell_type": "code",
   "execution_count": 22,
   "id": "4d7daefc",
   "metadata": {},
   "outputs": [
    {
     "name": "stdout",
     "output_type": "stream",
     "text": [
      "\n",
      "file \u001b[1;36mFAtomes.in\u001b[m writed\n",
      "\n"
     ]
    }
   ],
   "source": [
    "Fatomes.write_topol()"
   ]
  },
  {
   "cell_type": "code",
   "execution_count": 23,
   "id": "c2f09df4",
   "metadata": {},
   "outputs": [],
   "source": [
    "%more FAtomes.in"
   ]
  },
  {
   "cell_type": "code",
   "execution_count": null,
   "id": "02ca727c",
   "metadata": {},
   "outputs": [],
   "source": []
  }
 ],
 "metadata": {
  "kernelspec": {
   "display_name": "Python 3 (ipykernel)",
   "language": "python",
   "name": "python3"
  },
  "language_info": {
   "codemirror_mode": {
    "name": "ipython",
    "version": 3
   },
   "file_extension": ".py",
   "mimetype": "text/x-python",
   "name": "python",
   "nbconvert_exporter": "python",
   "pygments_lexer": "ipython3",
   "version": "3.7.7"
  }
 },
 "nbformat": 4,
 "nbformat_minor": 5
}
