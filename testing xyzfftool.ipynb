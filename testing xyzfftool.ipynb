{
 "cells": [
  {
   "cell_type": "code",
   "execution_count": 1,
   "id": "95a5f2c9",
   "metadata": {},
   "outputs": [],
   "source": [
    "%load_ext autoreload\n",
    "%autoreload 2\n"
   ]
  },
  {
   "cell_type": "markdown",
   "id": "3327b19a",
   "metadata": {},
   "source": [
    "Proceso para construir la topologia de una molecula para GROMACS:\n",
    "\n",
    "   1. Parametros iniciales, un archivo de entrada, y especificar el campo de fuerzas.\n",
    "   \n",
    "   2. Se crea el objeto molecula.\n",
    "   3. Se lee la estructura de entrada.\n",
    "   4. Se busca su conectividad\n",
    "   5. Se asignan los tipos de atomos.\n",
    "   6. Se asignan los parametros del campo de fuerzas."
   ]
  },
  {
   "cell_type": "code",
   "execution_count": 1,
   "id": "e4374289",
   "metadata": {},
   "outputs": [],
   "source": [
    "from moltools.structure import MOL, ATOM\n",
    "from moltools.ffield import get_atoms_types, get_ffparameters, get_interactions_list\n",
    "from mkitpgmx import save_gro, save_itp"
   ]
  },
  {
   "cell_type": "code",
   "execution_count": 2,
   "id": "6c81f429",
   "metadata": {},
   "outputs": [],
   "source": [
    "# Se crea la molecula\n",
    "mol = MOL()"
   ]
  },
  {
   "cell_type": "code",
   "execution_count": 3,
   "id": "860a7f10",
   "metadata": {},
   "outputs": [],
   "source": [
    "# Se lee la estructura de entrada.\n",
    "\n",
    "mol.load_file(\"test/xyz/met.xyz\")"
   ]
  },
  {
   "cell_type": "code",
   "execution_count": 4,
   "id": "93826bb1",
   "metadata": {},
   "outputs": [],
   "source": [
    "# Se busca su conectividad\n",
    "\n",
    "mol.search_connectivity()"
   ]
  },
  {
   "cell_type": "code",
   "execution_count": 5,
   "id": "b28b2c60",
   "metadata": {},
   "outputs": [
    {
     "name": "stdout",
     "output_type": "stream",
     "text": [
      "connectivity with 5 nodes and 8 edges\n"
     ]
    }
   ],
   "source": [
    "print(mol.connect)"
   ]
  },
  {
   "cell_type": "code",
   "execution_count": 6,
   "id": "efc476d0",
   "metadata": {},
   "outputs": [
    {
     "data": {
      "text/plain": [
       "5"
      ]
     },
     "execution_count": 6,
     "metadata": {},
     "output_type": "execute_result"
    }
   ],
   "source": [
    "len(mol.dfatoms)"
   ]
  },
  {
   "cell_type": "code",
   "execution_count": 7,
   "id": "c14de919",
   "metadata": {},
   "outputs": [
    {
     "data": {
      "text/html": [
       "<div>\n",
       "<style scoped>\n",
       "    .dataframe tbody tr th:only-of-type {\n",
       "        vertical-align: middle;\n",
       "    }\n",
       "\n",
       "    .dataframe tbody tr th {\n",
       "        vertical-align: top;\n",
       "    }\n",
       "\n",
       "    .dataframe thead th {\n",
       "        text-align: right;\n",
       "    }\n",
       "</style>\n",
       "<table border=\"1\" class=\"dataframe\">\n",
       "  <thead>\n",
       "    <tr style=\"text-align: right;\">\n",
       "      <th></th>\n",
       "      <th>atsb</th>\n",
       "      <th>x</th>\n",
       "      <th>y</th>\n",
       "      <th>z</th>\n",
       "      <th>mass</th>\n",
       "      <th>num</th>\n",
       "      <th>charge</th>\n",
       "    </tr>\n",
       "  </thead>\n",
       "  <tbody>\n",
       "    <tr>\n",
       "      <th>0</th>\n",
       "      <td>C</td>\n",
       "      <td>-0.37855</td>\n",
       "      <td>0.73490</td>\n",
       "      <td>-0.00000</td>\n",
       "      <td>12.011</td>\n",
       "      <td>6</td>\n",
       "      <td>0.0</td>\n",
       "    </tr>\n",
       "    <tr>\n",
       "      <th>1</th>\n",
       "      <td>H</td>\n",
       "      <td>0.73085</td>\n",
       "      <td>0.73490</td>\n",
       "      <td>-0.00000</td>\n",
       "      <td>1.008</td>\n",
       "      <td>1</td>\n",
       "      <td>0.0</td>\n",
       "    </tr>\n",
       "    <tr>\n",
       "      <th>2</th>\n",
       "      <td>H</td>\n",
       "      <td>-0.74835</td>\n",
       "      <td>-0.27591</td>\n",
       "      <td>0.26887</td>\n",
       "      <td>1.008</td>\n",
       "      <td>1</td>\n",
       "      <td>0.0</td>\n",
       "    </tr>\n",
       "    <tr>\n",
       "      <th>3</th>\n",
       "      <td>H</td>\n",
       "      <td>-0.74836</td>\n",
       "      <td>1.00746</td>\n",
       "      <td>-1.00982</td>\n",
       "      <td>1.008</td>\n",
       "      <td>1</td>\n",
       "      <td>0.0</td>\n",
       "    </tr>\n",
       "    <tr>\n",
       "      <th>4</th>\n",
       "      <td>H</td>\n",
       "      <td>-0.74836</td>\n",
       "      <td>1.47315</td>\n",
       "      <td>0.74095</td>\n",
       "      <td>1.008</td>\n",
       "      <td>1</td>\n",
       "      <td>0.0</td>\n",
       "    </tr>\n",
       "  </tbody>\n",
       "</table>\n",
       "</div>"
      ],
      "text/plain": [
       "  atsb        x        y        z    mass  num  charge\n",
       "0    C -0.37855  0.73490 -0.00000  12.011    6     0.0\n",
       "1    H  0.73085  0.73490 -0.00000   1.008    1     0.0\n",
       "2    H -0.74835 -0.27591  0.26887   1.008    1     0.0\n",
       "3    H -0.74836  1.00746 -1.00982   1.008    1     0.0\n",
       "4    H -0.74836  1.47315  0.74095   1.008    1     0.0"
      ]
     },
     "execution_count": 7,
     "metadata": {},
     "output_type": "execute_result"
    }
   ],
   "source": [
    "mol.dfatoms"
   ]
  },
  {
   "cell_type": "code",
   "execution_count": 8,
   "id": "3b847239",
   "metadata": {},
   "outputs": [
    {
     "name": "stdout",
     "output_type": "stream",
     "text": [
      "\u001b[1;35mForce field: GAFF\u001b[m\n",
      "  atsb        x        y        z    mass  num  charge type\n",
      "0    C -0.37855  0.73490 -0.00000  12.011    6     0.0   c3\n",
      "1    H  0.73085  0.73490 -0.00000   1.008    1     0.0   hc\n",
      "2    H -0.74835 -0.27591  0.26887   1.008    1     0.0   hc\n",
      "3    H -0.74836  1.00746 -1.00982   1.008    1     0.0   hc\n",
      "4    H -0.74836  1.47315  0.74095   1.008    1     0.0   hc\n"
     ]
    }
   ],
   "source": [
    "get_atoms_types(mol, \"gaff\")"
   ]
  },
  {
   "cell_type": "code",
   "execution_count": 9,
   "id": "e8f59ae3",
   "metadata": {},
   "outputs": [
    {
     "data": {
      "text/html": [
       "<div>\n",
       "<style scoped>\n",
       "    .dataframe tbody tr th:only-of-type {\n",
       "        vertical-align: middle;\n",
       "    }\n",
       "\n",
       "    .dataframe tbody tr th {\n",
       "        vertical-align: top;\n",
       "    }\n",
       "\n",
       "    .dataframe thead th {\n",
       "        text-align: right;\n",
       "    }\n",
       "</style>\n",
       "<table border=\"1\" class=\"dataframe\">\n",
       "  <thead>\n",
       "    <tr style=\"text-align: right;\">\n",
       "      <th></th>\n",
       "      <th>atsb</th>\n",
       "      <th>x</th>\n",
       "      <th>y</th>\n",
       "      <th>z</th>\n",
       "      <th>mass</th>\n",
       "      <th>num</th>\n",
       "      <th>charge</th>\n",
       "      <th>type</th>\n",
       "    </tr>\n",
       "  </thead>\n",
       "  <tbody>\n",
       "    <tr>\n",
       "      <th>0</th>\n",
       "      <td>C</td>\n",
       "      <td>-0.37855</td>\n",
       "      <td>0.73490</td>\n",
       "      <td>-0.00000</td>\n",
       "      <td>12.011</td>\n",
       "      <td>6</td>\n",
       "      <td>0.0</td>\n",
       "      <td>c3</td>\n",
       "    </tr>\n",
       "    <tr>\n",
       "      <th>1</th>\n",
       "      <td>H</td>\n",
       "      <td>0.73085</td>\n",
       "      <td>0.73490</td>\n",
       "      <td>-0.00000</td>\n",
       "      <td>1.008</td>\n",
       "      <td>1</td>\n",
       "      <td>0.0</td>\n",
       "      <td>hc</td>\n",
       "    </tr>\n",
       "    <tr>\n",
       "      <th>2</th>\n",
       "      <td>H</td>\n",
       "      <td>-0.74835</td>\n",
       "      <td>-0.27591</td>\n",
       "      <td>0.26887</td>\n",
       "      <td>1.008</td>\n",
       "      <td>1</td>\n",
       "      <td>0.0</td>\n",
       "      <td>hc</td>\n",
       "    </tr>\n",
       "    <tr>\n",
       "      <th>3</th>\n",
       "      <td>H</td>\n",
       "      <td>-0.74836</td>\n",
       "      <td>1.00746</td>\n",
       "      <td>-1.00982</td>\n",
       "      <td>1.008</td>\n",
       "      <td>1</td>\n",
       "      <td>0.0</td>\n",
       "      <td>hc</td>\n",
       "    </tr>\n",
       "    <tr>\n",
       "      <th>4</th>\n",
       "      <td>H</td>\n",
       "      <td>-0.74836</td>\n",
       "      <td>1.47315</td>\n",
       "      <td>0.74095</td>\n",
       "      <td>1.008</td>\n",
       "      <td>1</td>\n",
       "      <td>0.0</td>\n",
       "      <td>hc</td>\n",
       "    </tr>\n",
       "  </tbody>\n",
       "</table>\n",
       "</div>"
      ],
      "text/plain": [
       "  atsb        x        y        z    mass  num  charge type\n",
       "0    C -0.37855  0.73490 -0.00000  12.011    6     0.0   c3\n",
       "1    H  0.73085  0.73490 -0.00000   1.008    1     0.0   hc\n",
       "2    H -0.74835 -0.27591  0.26887   1.008    1     0.0   hc\n",
       "3    H -0.74836  1.00746 -1.00982   1.008    1     0.0   hc\n",
       "4    H -0.74836  1.47315  0.74095   1.008    1     0.0   hc"
      ]
     },
     "execution_count": 9,
     "metadata": {},
     "output_type": "execute_result"
    }
   ],
   "source": [
    "mol.dftypes"
   ]
  },
  {
   "cell_type": "code",
   "execution_count": 10,
   "id": "d6cdc9fb",
   "metadata": {},
   "outputs": [],
   "source": [
    "get_interactions_list(mol)"
   ]
  },
  {
   "cell_type": "code",
   "execution_count": 11,
   "id": "bf450488",
   "metadata": {},
   "outputs": [
    {
     "name": "stdout",
     "output_type": "stream",
     "text": [
      "  atsb        x        y        z    mass  num  charge type  sigma  epsilon\n",
      "0    C -0.37855  0.73490 -0.00000  12.011    6     0.0   c3  1.908   0.1094\n",
      "1    H  0.73085  0.73490 -0.00000   1.008    1     0.0   hc  1.487   0.0157\n",
      "2    H -0.74835 -0.27591  0.26887   1.008    1     0.0   hc  1.487   0.0157\n",
      "3    H -0.74836  1.00746 -1.00982   1.008    1     0.0   hc  1.487   0.0157\n",
      "4    H -0.74836  1.47315  0.74095   1.008    1     0.0   hc  1.487   0.0157\n",
      "     list     types     b0     kb\n",
      "0  (0, 1)  (c3, hc)  1.096  330.6\n",
      "1  (0, 2)  (c3, hc)  1.096  330.6\n",
      "2  (0, 3)  (c3, hc)  1.096  330.6\n",
      "3  (0, 4)  (c3, hc)  1.096  330.6\n",
      "        list         types    th0   kth\n",
      "0  (1, 0, 2)  (hc, c3, hc)  107.5  39.4\n",
      "1  (1, 0, 3)  (hc, c3, hc)  107.5  39.4\n",
      "2  (1, 0, 4)  (hc, c3, hc)  107.5  39.4\n",
      "3  (2, 0, 3)  (hc, c3, hc)  107.5  39.4\n",
      "4  (2, 0, 4)  (hc, c3, hc)  107.5  39.4\n",
      "5  (3, 0, 4)  (hc, c3, hc)  107.5  39.4\n"
     ]
    }
   ],
   "source": [
    "get_ffparameters(mol, \"gaff\")"
   ]
  },
  {
   "cell_type": "code",
   "execution_count": 12,
   "id": "cf0eb5c5",
   "metadata": {},
   "outputs": [
    {
     "data": {
      "text/html": [
       "<div>\n",
       "<style scoped>\n",
       "    .dataframe tbody tr th:only-of-type {\n",
       "        vertical-align: middle;\n",
       "    }\n",
       "\n",
       "    .dataframe tbody tr th {\n",
       "        vertical-align: top;\n",
       "    }\n",
       "\n",
       "    .dataframe thead th {\n",
       "        text-align: right;\n",
       "    }\n",
       "</style>\n",
       "<table border=\"1\" class=\"dataframe\">\n",
       "  <thead>\n",
       "    <tr style=\"text-align: right;\">\n",
       "      <th></th>\n",
       "      <th>list</th>\n",
       "      <th>types</th>\n",
       "      <th>th0</th>\n",
       "      <th>kth</th>\n",
       "    </tr>\n",
       "  </thead>\n",
       "  <tbody>\n",
       "    <tr>\n",
       "      <th>0</th>\n",
       "      <td>(1, 0, 2)</td>\n",
       "      <td>(hc, c3, hc)</td>\n",
       "      <td>107.5</td>\n",
       "      <td>39.4</td>\n",
       "    </tr>\n",
       "    <tr>\n",
       "      <th>1</th>\n",
       "      <td>(1, 0, 3)</td>\n",
       "      <td>(hc, c3, hc)</td>\n",
       "      <td>107.5</td>\n",
       "      <td>39.4</td>\n",
       "    </tr>\n",
       "    <tr>\n",
       "      <th>2</th>\n",
       "      <td>(1, 0, 4)</td>\n",
       "      <td>(hc, c3, hc)</td>\n",
       "      <td>107.5</td>\n",
       "      <td>39.4</td>\n",
       "    </tr>\n",
       "    <tr>\n",
       "      <th>3</th>\n",
       "      <td>(2, 0, 3)</td>\n",
       "      <td>(hc, c3, hc)</td>\n",
       "      <td>107.5</td>\n",
       "      <td>39.4</td>\n",
       "    </tr>\n",
       "    <tr>\n",
       "      <th>4</th>\n",
       "      <td>(2, 0, 4)</td>\n",
       "      <td>(hc, c3, hc)</td>\n",
       "      <td>107.5</td>\n",
       "      <td>39.4</td>\n",
       "    </tr>\n",
       "    <tr>\n",
       "      <th>5</th>\n",
       "      <td>(3, 0, 4)</td>\n",
       "      <td>(hc, c3, hc)</td>\n",
       "      <td>107.5</td>\n",
       "      <td>39.4</td>\n",
       "    </tr>\n",
       "  </tbody>\n",
       "</table>\n",
       "</div>"
      ],
      "text/plain": [
       "        list         types    th0   kth\n",
       "0  (1, 0, 2)  (hc, c3, hc)  107.5  39.4\n",
       "1  (1, 0, 3)  (hc, c3, hc)  107.5  39.4\n",
       "2  (1, 0, 4)  (hc, c3, hc)  107.5  39.4\n",
       "3  (2, 0, 3)  (hc, c3, hc)  107.5  39.4\n",
       "4  (2, 0, 4)  (hc, c3, hc)  107.5  39.4\n",
       "5  (3, 0, 4)  (hc, c3, hc)  107.5  39.4"
      ]
     },
     "execution_count": 12,
     "metadata": {},
     "output_type": "execute_result"
    }
   ],
   "source": [
    "mol.dfangles"
   ]
  },
  {
   "cell_type": "code",
   "execution_count": 13,
   "id": "857f6bc6",
   "metadata": {},
   "outputs": [
    {
     "name": "stdout",
     "output_type": "stream",
     "text": [
      "Saved gro file: met.gro\n"
     ]
    }
   ],
   "source": [
    "save_gro(mol.dftypes, \"MET\")"
   ]
  },
  {
   "cell_type": "code",
   "execution_count": 14,
   "id": "11199ce4",
   "metadata": {},
   "outputs": [
    {
     "name": "stdout",
     "output_type": "stream",
     "text": [
      "Saved itp file: met.itp\n"
     ]
    }
   ],
   "source": [
    "save_itp(mol, \"gaff\", \"MET\")"
   ]
  },
  {
   "cell_type": "code",
   "execution_count": 19,
   "id": "664f79ab",
   "metadata": {},
   "outputs": [
    {
     "data": {
      "text/plain": [
       "0.0"
      ]
     },
     "execution_count": 19,
     "metadata": {},
     "output_type": "execute_result"
    }
   ],
   "source": [
    "mol.dftypes[\"charge\"].sum()"
   ]
  },
  {
   "cell_type": "code",
   "execution_count": null,
   "id": "d8d2e8ff",
   "metadata": {},
   "outputs": [],
   "source": []
  }
 ],
 "metadata": {
  "kernelspec": {
   "display_name": "Python 3 (ipykernel)",
   "language": "python",
   "name": "python3"
  },
  "language_info": {
   "codemirror_mode": {
    "name": "ipython",
    "version": 3
   },
   "file_extension": ".py",
   "mimetype": "text/x-python",
   "name": "python",
   "nbconvert_exporter": "python",
   "pygments_lexer": "ipython3",
   "version": "3.7.7"
  }
 },
 "nbformat": 4,
 "nbformat_minor": 5
}
