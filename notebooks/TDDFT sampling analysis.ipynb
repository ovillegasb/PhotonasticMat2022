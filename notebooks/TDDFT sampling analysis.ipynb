{
 "cells": [
  {
   "cell_type": "markdown",
   "id": "194451de-6e5f-49f0-85fa-8d2be303aea7",
   "metadata": {},
   "source": [
    "# TD-DFT sampling analysis"
   ]
  },
  {
   "cell_type": "code",
   "execution_count": 1,
   "id": "30326f43-cef1-4c7b-b220-8a8122ca7124",
   "metadata": {},
   "outputs": [],
   "source": [
    "# Reload all modules\n",
    "# This is useful when you need to edit a module without\n",
    "# closing the notebook.\n",
    "\n",
    "%load_ext autoreload\n",
    "%autoreload 2"
   ]
  },
  {
   "cell_type": "code",
   "execution_count": 2,
   "id": "247bbb8f-8466-406d-8fc6-7e711c053b50",
   "metadata": {},
   "outputs": [],
   "source": [
    "# Modules are loaded\n",
    "\n",
    "import numpy as np\n",
    "import pandas as pd\n",
    "import matplotlib.pyplot as plt\n",
    "import seaborn as sns\n",
    "import re\n",
    "import glob\n",
    "from scipy.constants import e, h, c, k\n",
    "from scipy.stats import norm"
   ]
  },
  {
   "cell_type": "code",
   "execution_count": 3,
   "id": "823d4729-ef0e-4da6-8ddb-1ce14c921d86",
   "metadata": {},
   "outputs": [],
   "source": [
    "# submodule stamptools with notebooks tools\n",
    "from stamptools import nbconfig"
   ]
  },
  {
   "cell_type": "code",
   "execution_count": 4,
   "id": "d9629e7c-91d8-4958-8837-34e015b0388c",
   "metadata": {},
   "outputs": [
    {
     "name": "stdout",
     "output_type": "stream",
     "text": [
      "Functions or objects in nbconfig\n",
      "--------------------------------\n",
      "\n",
      "    MplotParam : (dict)\n",
      "        Matplotlib parameters to change.\n",
      "\n",
      "    boxText : (dict)\n",
      "        Box on text in figures.\n",
      "\n",
      "    rot : (function)\n",
      "        Rotate the negative angles by 360 degrees.\n",
      "\n",
      "    toTime : (function)\n",
      "        Convert regular frames to time (in ps).\n",
      "\n",
      "    binned_distance : (function)\n",
      "        Binned distances (in nm).\n",
      "\n",
      "    \n"
     ]
    }
   ],
   "source": [
    "# Show information from nbconfig\n",
    "nbconfig.showInfo()"
   ]
  },
  {
   "cell_type": "code",
   "execution_count": 5,
   "id": "a8bb89eb-1159-46bb-9d67-54e24ec3fe19",
   "metadata": {},
   "outputs": [],
   "source": [
    "# Load my parameters in the matplotlib setting\n",
    "plt.rcParams.update(nbconfig.MplotParam)"
   ]
  },
  {
   "cell_type": "markdown",
   "id": "b7e00d54-6a1d-41a7-85b7-76c9641d366d",
   "metadata": {},
   "source": [
    "Creating UV/Visible Plots from the Results of Excited States Calculations\n",
    "\n",
    "$$\\varepsilon_i(\\tilde{\\nu}) = \\varepsilon_i^{{max}}\\left[-\\left(\\frac{\\tilde{\\nu} - \\tilde{\\nu}_i}{\\sigma}\\right)^2\\right] $$\n",
    "\n",
    "\n",
    "[reference](https://gaussian.com/uvvisplot/)"
   ]
  },
  {
   "cell_type": "markdown",
   "id": "2e1d3756-8ac2-42be-9bcf-48310cdd9c52",
   "metadata": {},
   "source": [
    "## Load data"
   ]
  },
  {
   "cell_type": "code",
   "execution_count": 6,
   "id": "d7edb93a-5083-42ac-b4eb-6c53a52e6c45",
   "metadata": {},
   "outputs": [],
   "source": [
    "# For a file\n",
    "\n",
    "file = \"../exp.azob.stamp.3/trans/6_prod_1/SamplingUV-Vis_500_2500/azoT_PB_00039.log\""
   ]
  },
  {
   "cell_type": "code",
   "execution_count": 7,
   "id": "90378276-4225-4fcb-9031-967c0f6a5719",
   "metadata": {},
   "outputs": [],
   "source": [
    "data = nbconfig.read_UVVis(file)"
   ]
  },
  {
   "cell_type": "code",
   "execution_count": 8,
   "id": "84c4939d-0b86-41d3-a125-ae67ccd95077",
   "metadata": {},
   "outputs": [
    {
     "data": {
      "text/html": [
       "<div>\n",
       "<style scoped>\n",
       "    .dataframe tbody tr th:only-of-type {\n",
       "        vertical-align: middle;\n",
       "    }\n",
       "\n",
       "    .dataframe tbody tr th {\n",
       "        vertical-align: top;\n",
       "    }\n",
       "\n",
       "    .dataframe thead th {\n",
       "        text-align: right;\n",
       "    }\n",
       "</style>\n",
       "<table border=\"1\" class=\"dataframe\">\n",
       "  <thead>\n",
       "    <tr style=\"text-align: right;\">\n",
       "      <th></th>\n",
       "      <th>Nstate</th>\n",
       "      <th>E</th>\n",
       "      <th>wl</th>\n",
       "      <th>f</th>\n",
       "      <th>t</th>\n",
       "      <th>p</th>\n",
       "    </tr>\n",
       "  </thead>\n",
       "  <tbody>\n",
       "    <tr>\n",
       "      <th>0</th>\n",
       "      <td>1</td>\n",
       "      <td>2.9908</td>\n",
       "      <td>414.56</td>\n",
       "      <td>0.0082</td>\n",
       "      <td>55 -&gt; 57</td>\n",
       "      <td>0.64703</td>\n",
       "    </tr>\n",
       "    <tr>\n",
       "      <th>1</th>\n",
       "      <td>2</td>\n",
       "      <td>3.8966</td>\n",
       "      <td>318.19</td>\n",
       "      <td>0.7860</td>\n",
       "      <td>56 -&gt; 57</td>\n",
       "      <td>0.67339</td>\n",
       "    </tr>\n",
       "    <tr>\n",
       "      <th>2</th>\n",
       "      <td>3</td>\n",
       "      <td>4.7441</td>\n",
       "      <td>261.34</td>\n",
       "      <td>0.0025</td>\n",
       "      <td>53 -&gt; 57</td>\n",
       "      <td>0.50338</td>\n",
       "    </tr>\n",
       "    <tr>\n",
       "      <th>3</th>\n",
       "      <td>4</td>\n",
       "      <td>4.8054</td>\n",
       "      <td>258.01</td>\n",
       "      <td>0.0011</td>\n",
       "      <td>52 -&gt; 57</td>\n",
       "      <td>0.44818</td>\n",
       "    </tr>\n",
       "    <tr>\n",
       "      <th>4</th>\n",
       "      <td>5</td>\n",
       "      <td>5.0160</td>\n",
       "      <td>247.18</td>\n",
       "      <td>0.0148</td>\n",
       "      <td>54 -&gt; 57</td>\n",
       "      <td>0.62947</td>\n",
       "    </tr>\n",
       "    <tr>\n",
       "      <th>5</th>\n",
       "      <td>6</td>\n",
       "      <td>5.4808</td>\n",
       "      <td>226.21</td>\n",
       "      <td>0.4493</td>\n",
       "      <td>56 -&gt; 58</td>\n",
       "      <td>0.46826</td>\n",
       "    </tr>\n",
       "  </tbody>\n",
       "</table>\n",
       "</div>"
      ],
      "text/plain": [
       "   Nstate       E      wl       f         t        p\n",
       "0       1  2.9908  414.56  0.0082  55 -> 57  0.64703\n",
       "1       2  3.8966  318.19  0.7860  56 -> 57  0.67339\n",
       "2       3  4.7441  261.34  0.0025  53 -> 57  0.50338\n",
       "3       4  4.8054  258.01  0.0011  52 -> 57  0.44818\n",
       "4       5  5.0160  247.18  0.0148  54 -> 57  0.62947\n",
       "5       6  5.4808  226.21  0.4493  56 -> 58  0.46826"
      ]
     },
     "execution_count": 8,
     "metadata": {},
     "output_type": "execute_result"
    }
   ],
   "source": [
    "data"
   ]
  },
  {
   "cell_type": "code",
   "execution_count": 23,
   "id": "f3eeeeb6-9312-434c-8174-452fb4067198",
   "metadata": {},
   "outputs": [],
   "source": [
    "spectre = nbconfig.epsilon_tot(nbconfig.w_nm, data, sigma=0.4, normalize=False)"
   ]
  },
  {
   "cell_type": "code",
   "execution_count": 24,
   "id": "717effac-dc80-4ddf-b9bd-189efcdc1dac",
   "metadata": {},
   "outputs": [
    {
     "data": {
      "text/plain": [
       "[<matplotlib.lines.Line2D at 0x7f632a91a0b0>]"
      ]
     },
     "execution_count": 24,
     "metadata": {},
     "output_type": "execute_result"
    },
    {
     "data": {
      "image/png": "[encoded data removed]",
      "text/plain": [
       "<Figure size 900x600 with 1 Axes>"
      ]
     },
     "metadata": {},
     "output_type": "display_data"
    }
   ],
   "source": [
    "plt.plot(nbconfig.w_nm, spectre)"
   ]
  },
  {
   "cell_type": "code",
   "execution_count": 12,
   "id": "f6eccc4a-367e-48ff-89f4-5d25902e59cd",
   "metadata": {},
   "outputs": [],
   "source": [
    "# more files\n",
    "path = \"../exp.azob.stamp.3/trans/6_prod_1/SamplingUV-Vis_500_2500/*.log\""
   ]
  },
  {
   "cell_type": "code",
   "execution_count": 27,
   "id": "8b3d5ebf-22f0-4e29-b5b7-8cda66bd58cd",
   "metadata": {},
   "outputs": [
    {
     "name": "stdout",
     "output_type": "stream",
     "text": [
      "Number of files analyzed: 100\n"
     ]
    }
   ],
   "source": [
    "spectre, info = nbconfig.get_spectre_info(\n",
    "            glob.glob(path),\n",
    "            sigma=0.4 # eV\n",
    "        )"
   ]
  },
  {
   "cell_type": "code",
   "execution_count": 17,
   "id": "0445f45f-e76e-4baf-a740-342be6007a91",
   "metadata": {},
   "outputs": [
    {
     "data": {
      "text/html": [
       "<div>\n",
       "<style scoped>\n",
       "    .dataframe tbody tr th:only-of-type {\n",
       "        vertical-align: middle;\n",
       "    }\n",
       "\n",
       "    .dataframe tbody tr th {\n",
       "        vertical-align: top;\n",
       "    }\n",
       "\n",
       "    .dataframe thead th {\n",
       "        text-align: right;\n",
       "    }\n",
       "</style>\n",
       "<table border=\"1\" class=\"dataframe\">\n",
       "  <thead>\n",
       "    <tr style=\"text-align: right;\">\n",
       "      <th></th>\n",
       "      <th>isomer</th>\n",
       "      <th>replica</th>\n",
       "      <th>frame</th>\n",
       "      <th>s1</th>\n",
       "      <th>s2</th>\n",
       "      <th>s3</th>\n",
       "      <th>s4</th>\n",
       "      <th>s5</th>\n",
       "      <th>s6</th>\n",
       "      <th>f1</th>\n",
       "      <th>f2</th>\n",
       "      <th>f3</th>\n",
       "      <th>f4</th>\n",
       "      <th>f5</th>\n",
       "      <th>f6</th>\n",
       "    </tr>\n",
       "    <tr>\n",
       "      <th>index</th>\n",
       "      <th></th>\n",
       "      <th></th>\n",
       "      <th></th>\n",
       "      <th></th>\n",
       "      <th></th>\n",
       "      <th></th>\n",
       "      <th></th>\n",
       "      <th></th>\n",
       "      <th></th>\n",
       "      <th></th>\n",
       "      <th></th>\n",
       "      <th></th>\n",
       "      <th></th>\n",
       "      <th></th>\n",
       "      <th></th>\n",
       "    </tr>\n",
       "  </thead>\n",
       "  <tbody>\n",
       "    <tr>\n",
       "      <th>0</th>\n",
       "      <td>UNW</td>\n",
       "      <td>UNW</td>\n",
       "      <td>39</td>\n",
       "      <td>414.56</td>\n",
       "      <td>318.19</td>\n",
       "      <td>261.34</td>\n",
       "      <td>258.01</td>\n",
       "      <td>247.18</td>\n",
       "      <td>226.21</td>\n",
       "      <td>0.0082</td>\n",
       "      <td>0.7860</td>\n",
       "      <td>0.0025</td>\n",
       "      <td>0.0011</td>\n",
       "      <td>0.0148</td>\n",
       "      <td>0.4493</td>\n",
       "    </tr>\n",
       "    <tr>\n",
       "      <th>1</th>\n",
       "      <td>UNW</td>\n",
       "      <td>UNW</td>\n",
       "      <td>98</td>\n",
       "      <td>428.28</td>\n",
       "      <td>342.39</td>\n",
       "      <td>264.58</td>\n",
       "      <td>259.59</td>\n",
       "      <td>251.98</td>\n",
       "      <td>225.51</td>\n",
       "      <td>0.0166</td>\n",
       "      <td>0.9415</td>\n",
       "      <td>0.0008</td>\n",
       "      <td>0.0575</td>\n",
       "      <td>0.0114</td>\n",
       "      <td>0.2468</td>\n",
       "    </tr>\n",
       "    <tr>\n",
       "      <th>2</th>\n",
       "      <td>UNW</td>\n",
       "      <td>UNW</td>\n",
       "      <td>107</td>\n",
       "      <td>403.17</td>\n",
       "      <td>322.72</td>\n",
       "      <td>263.48</td>\n",
       "      <td>258.52</td>\n",
       "      <td>251.84</td>\n",
       "      <td>225.63</td>\n",
       "      <td>0.0032</td>\n",
       "      <td>0.8472</td>\n",
       "      <td>0.0035</td>\n",
       "      <td>0.0095</td>\n",
       "      <td>0.0014</td>\n",
       "      <td>0.4977</td>\n",
       "    </tr>\n",
       "    <tr>\n",
       "      <th>3</th>\n",
       "      <td>UNW</td>\n",
       "      <td>UNW</td>\n",
       "      <td>155</td>\n",
       "      <td>424.49</td>\n",
       "      <td>317.35</td>\n",
       "      <td>258.44</td>\n",
       "      <td>257.89</td>\n",
       "      <td>245.46</td>\n",
       "      <td>223.89</td>\n",
       "      <td>0.0093</td>\n",
       "      <td>0.8081</td>\n",
       "      <td>0.0017</td>\n",
       "      <td>0.0030</td>\n",
       "      <td>0.0045</td>\n",
       "      <td>0.3066</td>\n",
       "    </tr>\n",
       "    <tr>\n",
       "      <th>4</th>\n",
       "      <td>UNW</td>\n",
       "      <td>UNW</td>\n",
       "      <td>163</td>\n",
       "      <td>408.06</td>\n",
       "      <td>318.69</td>\n",
       "      <td>257.72</td>\n",
       "      <td>257.15</td>\n",
       "      <td>244.35</td>\n",
       "      <td>223.03</td>\n",
       "      <td>0.0001</td>\n",
       "      <td>0.8869</td>\n",
       "      <td>0.0009</td>\n",
       "      <td>0.0064</td>\n",
       "      <td>0.0201</td>\n",
       "      <td>0.1459</td>\n",
       "    </tr>\n",
       "    <tr>\n",
       "      <th>...</th>\n",
       "      <td>...</td>\n",
       "      <td>...</td>\n",
       "      <td>...</td>\n",
       "      <td>...</td>\n",
       "      <td>...</td>\n",
       "      <td>...</td>\n",
       "      <td>...</td>\n",
       "      <td>...</td>\n",
       "      <td>...</td>\n",
       "      <td>...</td>\n",
       "      <td>...</td>\n",
       "      <td>...</td>\n",
       "      <td>...</td>\n",
       "      <td>...</td>\n",
       "      <td>...</td>\n",
       "    </tr>\n",
       "    <tr>\n",
       "      <th>95</th>\n",
       "      <td>UNW</td>\n",
       "      <td>UNW</td>\n",
       "      <td>1884</td>\n",
       "      <td>410.04</td>\n",
       "      <td>325.56</td>\n",
       "      <td>261.00</td>\n",
       "      <td>256.79</td>\n",
       "      <td>252.53</td>\n",
       "      <td>224.74</td>\n",
       "      <td>0.0027</td>\n",
       "      <td>0.8508</td>\n",
       "      <td>0.0005</td>\n",
       "      <td>0.0103</td>\n",
       "      <td>0.0043</td>\n",
       "      <td>0.3298</td>\n",
       "    </tr>\n",
       "    <tr>\n",
       "      <th>96</th>\n",
       "      <td>UNW</td>\n",
       "      <td>UNW</td>\n",
       "      <td>1893</td>\n",
       "      <td>435.55</td>\n",
       "      <td>323.38</td>\n",
       "      <td>270.45</td>\n",
       "      <td>259.81</td>\n",
       "      <td>255.18</td>\n",
       "      <td>231.12</td>\n",
       "      <td>0.0127</td>\n",
       "      <td>0.8735</td>\n",
       "      <td>0.0199</td>\n",
       "      <td>0.0074</td>\n",
       "      <td>0.0068</td>\n",
       "      <td>0.3975</td>\n",
       "    </tr>\n",
       "    <tr>\n",
       "      <th>97</th>\n",
       "      <td>UNW</td>\n",
       "      <td>UNW</td>\n",
       "      <td>1956</td>\n",
       "      <td>428.35</td>\n",
       "      <td>306.51</td>\n",
       "      <td>266.86</td>\n",
       "      <td>253.47</td>\n",
       "      <td>248.66</td>\n",
       "      <td>228.05</td>\n",
       "      <td>0.0648</td>\n",
       "      <td>0.8171</td>\n",
       "      <td>0.0169</td>\n",
       "      <td>0.0243</td>\n",
       "      <td>0.0224</td>\n",
       "      <td>0.1181</td>\n",
       "    </tr>\n",
       "    <tr>\n",
       "      <th>98</th>\n",
       "      <td>UNW</td>\n",
       "      <td>UNW</td>\n",
       "      <td>1988</td>\n",
       "      <td>413.03</td>\n",
       "      <td>326.93</td>\n",
       "      <td>263.84</td>\n",
       "      <td>259.29</td>\n",
       "      <td>250.27</td>\n",
       "      <td>227.86</td>\n",
       "      <td>0.0015</td>\n",
       "      <td>0.8766</td>\n",
       "      <td>0.0164</td>\n",
       "      <td>0.0034</td>\n",
       "      <td>0.0223</td>\n",
       "      <td>0.4776</td>\n",
       "    </tr>\n",
       "    <tr>\n",
       "      <th>99</th>\n",
       "      <td>UNW</td>\n",
       "      <td>UNW</td>\n",
       "      <td>1993</td>\n",
       "      <td>415.22</td>\n",
       "      <td>322.32</td>\n",
       "      <td>261.61</td>\n",
       "      <td>254.55</td>\n",
       "      <td>248.73</td>\n",
       "      <td>222.00</td>\n",
       "      <td>0.0302</td>\n",
       "      <td>0.7893</td>\n",
       "      <td>0.0292</td>\n",
       "      <td>0.0033</td>\n",
       "      <td>0.0450</td>\n",
       "      <td>0.2204</td>\n",
       "    </tr>\n",
       "  </tbody>\n",
       "</table>\n",
       "<p>100 rows × 15 columns</p>\n",
       "</div>"
      ],
      "text/plain": [
       "      isomer replica  frame      s1      s2      s3      s4      s5      s6  \\\n",
       "index                                                                         \n",
       "0        UNW     UNW     39  414.56  318.19  261.34  258.01  247.18  226.21   \n",
       "1        UNW     UNW     98  428.28  342.39  264.58  259.59  251.98  225.51   \n",
       "2        UNW     UNW    107  403.17  322.72  263.48  258.52  251.84  225.63   \n",
       "3        UNW     UNW    155  424.49  317.35  258.44  257.89  245.46  223.89   \n",
       "4        UNW     UNW    163  408.06  318.69  257.72  257.15  244.35  223.03   \n",
       "...      ...     ...    ...     ...     ...     ...     ...     ...     ...   \n",
       "95       UNW     UNW   1884  410.04  325.56  261.00  256.79  252.53  224.74   \n",
       "96       UNW     UNW   1893  435.55  323.38  270.45  259.81  255.18  231.12   \n",
       "97       UNW     UNW   1956  428.35  306.51  266.86  253.47  248.66  228.05   \n",
       "98       UNW     UNW   1988  413.03  326.93  263.84  259.29  250.27  227.86   \n",
       "99       UNW     UNW   1993  415.22  322.32  261.61  254.55  248.73  222.00   \n",
       "\n",
       "           f1      f2      f3      f4      f5      f6  \n",
       "index                                                  \n",
       "0      0.0082  0.7860  0.0025  0.0011  0.0148  0.4493  \n",
       "1      0.0166  0.9415  0.0008  0.0575  0.0114  0.2468  \n",
       "2      0.0032  0.8472  0.0035  0.0095  0.0014  0.4977  \n",
       "3      0.0093  0.8081  0.0017  0.0030  0.0045  0.3066  \n",
       "4      0.0001  0.8869  0.0009  0.0064  0.0201  0.1459  \n",
       "...       ...     ...     ...     ...     ...     ...  \n",
       "95     0.0027  0.8508  0.0005  0.0103  0.0043  0.3298  \n",
       "96     0.0127  0.8735  0.0199  0.0074  0.0068  0.3975  \n",
       "97     0.0648  0.8171  0.0169  0.0243  0.0224  0.1181  \n",
       "98     0.0015  0.8766  0.0164  0.0034  0.0223  0.4776  \n",
       "99     0.0302  0.7893  0.0292  0.0033  0.0450  0.2204  \n",
       "\n",
       "[100 rows x 15 columns]"
      ]
     },
     "execution_count": 17,
     "metadata": {},
     "output_type": "execute_result"
    }
   ],
   "source": [
    "info"
   ]
  },
  {
   "cell_type": "code",
   "execution_count": 26,
   "id": "ca355905-5d40-4894-b462-ba0ea874144d",
   "metadata": {},
   "outputs": [
    {
     "data": {
      "text/plain": [
       "[<matplotlib.lines.Line2D at 0x7f632a86e470>]"
      ]
     },
     "execution_count": 26,
     "metadata": {},
     "output_type": "execute_result"
    },
    {
     "data": {
      "image/png": "[encoded data removed]",
      "text/plain": [
       "<Figure size 900x600 with 1 Axes>"
      ]
     },
     "metadata": {},
     "output_type": "display_data"
    }
   ],
   "source": [
    "plt.plot(nbconfig.w_nm, spectre)"
   ]
  },
  {
   "cell_type": "code",
   "execution_count": 20,
   "id": "9e500047-2885-45f5-9575-4d5c45d0bbad",
   "metadata": {},
   "outputs": [
    {
     "data": {
      "image/png": "[encoded data removed]",
      "text/plain": [
       "<Figure size 900x600 with 1 Axes>"
      ]
     },
     "metadata": {},
     "output_type": "display_data"
    }
   ],
   "source": [
    "for n in range(1, 7):\n",
    "    Sn = f\"s{n}\"\n",
    "    Fn = f\"f{n}\"\n",
    "    plt.scatter(info[Sn], info[Fn], label=Sn, s=10.)"
   ]
  },
  {
   "cell_type": "code",
   "execution_count": null,
   "id": "aa47d608-9943-4b68-94a8-121ddfb6cff7",
   "metadata": {},
   "outputs": [],
   "source": []
  }
 ],
 "metadata": {
  "kernelspec": {
   "display_name": "Python 3 (ipykernel)",
   "language": "python",
   "name": "python3"
  },
  "language_info": {
   "codemirror_mode": {
    "name": "ipython",
    "version": 3
   },
   "file_extension": ".py",
   "mimetype": "text/x-python",
   "name": "python",
   "nbconvert_exporter": "python",
   "pygments_lexer": "ipython3",
   "version": "3.10.10"
  }
 },
 "nbformat": 4,
 "nbformat_minor": 5
}
