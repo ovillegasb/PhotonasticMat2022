{
 "cells": [
  {
   "cell_type": "markdown",
   "id": "77595db1-32da-4483-9318-abafdf301ff9",
   "metadata": {},
   "source": [
    "# Methane Freq Results"
   ]
  },
  {
   "cell_type": "code",
   "execution_count": 252,
   "id": "5f4c46be-2bf8-416f-bf02-b81704a7d0f8",
   "metadata": {},
   "outputs": [],
   "source": [
    "import re\n",
    "import pandas as pd\n",
    "import numpy as np\n",
    "from pymatgen.core import Molecule\n",
    "from pymatgen.io.gaussian import GaussianOutput, GaussianInput\n",
    "import nglview as nv\n",
    "import matplotlib.pyplot as plt"
   ]
  },
  {
   "cell_type": "code",
   "execution_count": 52,
   "id": "0d13bcc2-31a4-4d58-99cf-a441370cb5ea",
   "metadata": {},
   "outputs": [],
   "source": [
    "file = \"../stamp.tests/MET_freq/ModesVibrationnels/ModesVibrationnels_statiques.xyz\"\n",
    "\n",
    "tab = {}\n",
    "\n",
    "freq = re.compile(r\"\"\"\n",
    "            ^nu\\[(?P<idf>\\d+)/\\d/\\d+\\]=(?P<f>\\d+.\\d+)\n",
    "            \"\"\", re.X)\n",
    "\n",
    "coord = re.compile(r\"\"\"\n",
    "            ^(?P<atsb>\\w+)\\s+\n",
    "            (?P<x>[+-]?\\d+\\.\\d+)\\s+\n",
    "            (?P<y>[+-]?\\d+\\.\\d+)\\s+\n",
    "            (?P<z>[+-]?\\d+\\.\\d+)\\s+\n",
    "            \\w+\\s+\n",
    "            (?P<vx>[+-]?\\d+\\.\\d+)\\s+\n",
    "            (?P<vy>[+-]?\\d+\\.\\d+)\\s+\n",
    "            (?P<vz>[+-]?\\d+\\.\\d+)\\s+\n",
    "            \"\"\", re.X)\n",
    "\n",
    "nfreq = 0\n",
    "with open(file, \"r\") as F:\n",
    "    for line in F:\n",
    "        array = line.split()\n",
    "        if len(array) == 1:\n",
    "            nfreq += 1\n",
    "\n",
    "        elif freq.match(line):\n",
    "            m = freq.match(line)\n",
    "            tab[int(m.groupdict()['idf'])] = dict()\n",
    "            tab[int(m.groupdict()['idf'])]['freq'] = float(m.groupdict()['f'])\n",
    "            tab[int(m.groupdict()['idf'])][\"coord\"] = []\n",
    "            \n",
    "        elif coord.match(line):\n",
    "            m = coord.match(line)\n",
    "            tab[nfreq][\"coord\"].append(m.groupdict())"
   ]
  },
  {
   "cell_type": "code",
   "execution_count": 53,
   "id": "912075de-8f8a-4e9d-bc2b-b567f406db2d",
   "metadata": {},
   "outputs": [],
   "source": [
    "for i in tab:\n",
    "    coord = pd.DataFrame(tab[i][\"coord\"])\n",
    "    coord = coord.astype({\n",
    "        'x': np.float64,\n",
    "        'y': np.float64,\n",
    "        'z': np.float64,\n",
    "        'vx': np.float64,\n",
    "        'vy': np.float64,\n",
    "        'vz': np.float64})\n",
    "    coord[\"atsb\"] = coord[\"atsb\"].apply(lambda x: x.upper())\n",
    "    tab[i][\"coord\"] = coord"
   ]
  },
  {
   "cell_type": "code",
   "execution_count": 54,
   "id": "e01462cd-3944-4aed-ab22-8867dc5d21d1",
   "metadata": {},
   "outputs": [
    {
     "data": {
      "text/plain": [
       "{1: {'freq': 2938.35,\n",
       "  'coord':   atsb         x         y         z        vx        vy        vz\n",
       "  0    C -6.200000 -6.200000 -6.200000  0.009036  0.188604 -0.272149\n",
       "  1    H -5.567246 -5.567246 -5.567246  0.059205  0.048456  0.076037\n",
       "  2    H -6.832754 -6.832754 -5.567246 -0.377250 -0.387999  0.393000\n",
       "  3    H -5.567246 -6.832754 -6.832754 -0.074779  0.062948  0.090529\n",
       "  4    H -6.832754 -5.567246 -6.832754  0.361677 -0.373507  0.378508},\n",
       " 2: {'freq': 2938.35,\n",
       "  'coord':   atsb         x         y         z        vx        vy        vz\n",
       "  0    C -6.200000 -6.200000 -6.200000 -0.246375  0.185719  0.120526\n",
       "  1    H -5.567246 -5.567246 -5.567246 -0.033260 -0.059124 -0.055222\n",
       "  2    H -6.832754 -6.832754 -5.567246  0.160032  0.134167 -0.152499\n",
       "  3    H -5.567246 -6.832754 -6.832754  0.457876 -0.454245 -0.450342\n",
       "  4    H -6.832754 -5.567246 -6.832754  0.264584 -0.260953  0.242622},\n",
       " 3: {'freq': 2938.35,\n",
       "  'coord':   atsb         x         y         z        vx        vy        vz\n",
       "  0    C -6.200000 -6.200000 -6.200000 -0.221215 -0.199137 -0.145351\n",
       "  1    H -5.567246 -5.567246 -5.567246  0.466861  0.465539  0.462320\n",
       "  2    H -6.832754 -6.832754 -5.567246  0.233757  0.232435 -0.211814\n",
       "  3    H -5.567246 -6.832754 -6.832754 -0.085606  0.110768  0.107549\n",
       "  4    H -6.832754 -5.567246 -6.832754  0.147498 -0.122336  0.142957},\n",
       " 4: {'freq': 2779.37,\n",
       "  'coord':   atsb         x         y         z        vx        vy        vz\n",
       "  0    C -6.200000 -6.200000 -6.200000 -0.000000 -0.000000 -0.000000\n",
       "  1    H -5.567246 -5.567246 -5.567246 -0.288675 -0.288675 -0.288675\n",
       "  2    H -6.832754 -6.832754 -5.567246  0.288675  0.288675 -0.288675\n",
       "  3    H -5.567246 -6.832754 -6.832754 -0.288675  0.288675  0.288675\n",
       "  4    H -6.832754 -5.567246 -6.832754  0.288675 -0.288675  0.288675},\n",
       " 5: {'freq': 1525.49,\n",
       "  'coord':   atsb         x         y         z        vx        vy        vz\n",
       "  0    C -6.200000 -6.200000 -6.200000  0.000000 -0.000000 -0.000000\n",
       "  1    H -5.567246 -5.567246 -5.567246 -0.314776  0.382526 -0.067749\n",
       "  2    H -6.832754 -6.832754 -5.567246  0.314776 -0.382526 -0.067749\n",
       "  3    H -5.567246 -6.832754 -6.832754 -0.314776 -0.382526  0.067749\n",
       "  4    H -6.832754 -5.567246 -6.832754  0.314776  0.382526  0.067749},\n",
       " 6: {'freq': 1525.49,\n",
       "  'coord':   atsb         x         y         z        vx        vy        vz\n",
       "  0    C -6.200000 -6.200000 -6.200000 -0.000000 -0.000000  0.000000\n",
       "  1    H -5.567246 -5.567246 -5.567246  0.259966  0.142621 -0.402587\n",
       "  2    H -6.832754 -6.832754 -5.567246 -0.259966 -0.142621 -0.402587\n",
       "  3    H -5.567246 -6.832754 -6.832754  0.259966 -0.142621  0.402587\n",
       "  4    H -6.832754 -5.567246 -6.832754 -0.259966  0.142621  0.402587},\n",
       " 7: {'freq': 1328.94,\n",
       "  'coord':   atsb         x         y         z        vx        vy        vz\n",
       "  0    C -6.200000 -6.200000 -6.200000  0.232511  0.004279 -0.296770\n",
       "  1    H -5.567246 -5.567246 -5.567246 -0.381387 -0.043458  0.402287\n",
       "  2    H -6.832754 -6.832754 -5.567246 -0.014038  0.323891  0.109182\n",
       "  3    H -5.567246 -6.832754 -6.832754 -0.019335 -0.331267  0.114479\n",
       "  4    H -6.832754 -5.567246 -6.832754 -0.386684  0.036083  0.396990},\n",
       " 8: {'freq': 1328.94,\n",
       "  'coord':   atsb         x         y         z        vx        vy        vz\n",
       "  0    C -6.200000 -6.200000 -6.200000 -0.205249 -0.269997 -0.164701\n",
       "  1    H -5.567246 -5.567246 -5.567246 -0.092171  0.003696 -0.152209\n",
       "  2    H -6.832754 -6.832754 -5.567246  0.111700  0.207567  0.436063\n",
       "  3    H -5.567246 -6.832754 -6.832754  0.445909  0.257760  0.101854\n",
       "  4    H -6.832754 -5.567246 -6.832754  0.242038  0.461631  0.182000},\n",
       " 9: {'freq': 1328.94,\n",
       "  'coord':   atsb         x         y         z        vx        vy        vz\n",
       "  0    C -6.200000 -6.200000 -6.200000 -0.214390  0.263126 -0.164175\n",
       "  1    H -5.567246 -5.567246 -5.567246  0.245988 -0.461042  0.171637\n",
       "  2    H -6.832754 -6.832754 -5.567246  0.449208 -0.257822  0.111311\n",
       "  3    H -5.567246 -6.832754 -6.832754  0.123504 -0.195664  0.437015\n",
       "  4    H -6.832754 -5.567246 -6.832754 -0.079716  0.007556 -0.154067}}"
      ]
     },
     "execution_count": 54,
     "metadata": {},
     "output_type": "execute_result"
    }
   ],
   "source": [
    "tab"
   ]
  },
  {
   "cell_type": "code",
   "execution_count": 126,
   "id": "ca41503d-7943-4303-a42f-408bdd67bdab",
   "metadata": {},
   "outputs": [
    {
     "data": {
      "text/plain": [
       "array([[-6.2     , -6.2     , -6.2     ],\n",
       "       [-5.567246, -5.567246, -5.567246],\n",
       "       [-6.832754, -6.832754, -5.567246],\n",
       "       [-5.567246, -6.832754, -6.832754],\n",
       "       [-6.832754, -5.567246, -6.832754]])"
      ]
     },
     "execution_count": 126,
     "metadata": {},
     "output_type": "execute_result"
    }
   ],
   "source": [
    "# For 1 molecule\n",
    "coords = tab[1][\"coord\"].loc[:, [\"x\", \"y\", \"z\"]].values\n",
    "coords"
   ]
  },
  {
   "cell_type": "code",
   "execution_count": 127,
   "id": "5508be56-7b5e-4717-baf6-815e5bf436a7",
   "metadata": {},
   "outputs": [
    {
     "data": {
      "text/plain": [
       "['C', 'H', 'H', 'H', 'H']"
      ]
     },
     "execution_count": 127,
     "metadata": {},
     "output_type": "execute_result"
    }
   ],
   "source": [
    "atoms = list(tab[1][\"coord\"].loc[:, [\"atsb\"]].values.T[0])\n",
    "atoms"
   ]
  },
  {
   "cell_type": "code",
   "execution_count": 128,
   "id": "a442fdaf-aa05-47bc-839b-5d2c5f2578f5",
   "metadata": {},
   "outputs": [],
   "source": [
    "mol = Molecule(atoms, coords)"
   ]
  },
  {
   "cell_type": "code",
   "execution_count": 129,
   "id": "df2e2a16-577f-4905-9635-e76cc2f21f4a",
   "metadata": {},
   "outputs": [],
   "source": [
    "view = nv.show_pymatgen(mol)"
   ]
  },
  {
   "cell_type": "code",
   "execution_count": 130,
   "id": "dbc7a61e-3d0b-4c12-9c7f-7036770ae5c8",
   "metadata": {},
   "outputs": [
    {
     "data": {
      "application/vnd.jupyter.widget-view+json": {
       "model_id": "81cd91aadc794f08b8b7520a7932e406",
       "version_major": 2,
       "version_minor": 0
      },
      "text/plain": [
       "NGLWidget()"
      ]
     },
     "metadata": {},
     "output_type": "display_data"
    }
   ],
   "source": [
    "view"
   ]
  },
  {
   "cell_type": "code",
   "execution_count": 114,
   "id": "795e9c49-3edd-4342-b37e-147d107df320",
   "metadata": {},
   "outputs": [],
   "source": [
    "def show_vectors(nf, tab):\n",
    "    # For 1 molecule\n",
    "\n",
    "    print(\"Frequency {} cm-1\".format(tab[nf][\"freq\"]))\n",
    "\n",
    "    coords = tab[nf][\"coord\"].loc[:, [\"x\", \"y\", \"z\"]].values\n",
    "\n",
    "    atoms = list(tab[nf][\"coord\"].loc[:, [\"atsb\"]].values.T[0])\n",
    "\n",
    "    mol = Molecule(atoms, coords)\n",
    "\n",
    "    view = nv.show_pymatgen(mol)\n",
    "    view.update_representation(opacity=0.4)\n",
    "    for i in tab[nf][\"coord\"].index:\n",
    "        po = tab[nf][\"coord\"].loc[i, [\"x\", \"y\", \"z\"]].values\n",
    "        pf = po + 2.*tab[nf][\"coord\"].loc[i, [\"vx\", \"vy\", \"vz\"]].values\n",
    "        view.shape.add_arrow(po, pf, [0, 0.4, 0.8], 0.2)\n",
    "    \n",
    "    return view"
   ]
  },
  {
   "cell_type": "code",
   "execution_count": 296,
   "id": "43e24eb2-0e39-4c15-90b9-f1122c7198f3",
   "metadata": {},
   "outputs": [
    {
     "name": "stdout",
     "output_type": "stream",
     "text": [
      "Frequency 2938.35 cm-1\n"
     ]
    },
    {
     "data": {
      "application/vnd.jupyter.widget-view+json": {
       "model_id": "25a9cc53a4c6454dabd8c0e8c00012b1",
       "version_major": 2,
       "version_minor": 0
      },
      "text/plain": [
       "NGLWidget()"
      ]
     },
     "metadata": {},
     "output_type": "display_data"
    }
   ],
   "source": [
    "view = show_vectors(1, tab)\n",
    "view"
   ]
  },
  {
   "cell_type": "code",
   "execution_count": 301,
   "id": "89250841-bbe8-4467-9e00-157910831d63",
   "metadata": {},
   "outputs": [],
   "source": [
    "view.download_image(\"nu2938,35.png\", factor=8, antialias=True, transparent=True)"
   ]
  },
  {
   "cell_type": "code",
   "execution_count": 118,
   "id": "5b170e71-6826-4fab-a258-95db2e62c16a",
   "metadata": {},
   "outputs": [
    {
     "name": "stdout",
     "output_type": "stream",
     "text": [
      "Frequency 2938.35 cm-1\n"
     ]
    },
    {
     "data": {
      "application/vnd.jupyter.widget-view+json": {
       "model_id": "6dc0c7d4965d40fea910594798eb72ce",
       "version_major": 2,
       "version_minor": 0
      },
      "text/plain": [
       "NGLWidget()"
      ]
     },
     "metadata": {},
     "output_type": "display_data"
    }
   ],
   "source": [
    "show_vectors(2, tab)"
   ]
  },
  {
   "cell_type": "code",
   "execution_count": 119,
   "id": "094ad3e5-2871-49af-9cae-0a7ba4d82576",
   "metadata": {},
   "outputs": [
    {
     "name": "stdout",
     "output_type": "stream",
     "text": [
      "Frequency 2938.35 cm-1\n"
     ]
    },
    {
     "data": {
      "application/vnd.jupyter.widget-view+json": {
       "model_id": "4b950bf5f1e94939bf6860dfb5f89385",
       "version_major": 2,
       "version_minor": 0
      },
      "text/plain": [
       "NGLWidget()"
      ]
     },
     "metadata": {},
     "output_type": "display_data"
    }
   ],
   "source": [
    "show_vectors(3, tab)"
   ]
  },
  {
   "cell_type": "code",
   "execution_count": 120,
   "id": "3c9f5ed8-9c9d-4c36-bccb-3afe91632cb9",
   "metadata": {},
   "outputs": [
    {
     "name": "stdout",
     "output_type": "stream",
     "text": [
      "Frequency 2779.37 cm-1\n"
     ]
    },
    {
     "data": {
      "application/vnd.jupyter.widget-view+json": {
       "model_id": "721d0b0b37704672a0eb2c8e665f7f7d",
       "version_major": 2,
       "version_minor": 0
      },
      "text/plain": [
       "NGLWidget()"
      ]
     },
     "metadata": {},
     "output_type": "display_data"
    }
   ],
   "source": [
    "show_vectors(4, tab)"
   ]
  },
  {
   "cell_type": "code",
   "execution_count": 304,
   "id": "db09fdee-9e57-40cd-9457-a8f447378f43",
   "metadata": {},
   "outputs": [
    {
     "name": "stdout",
     "output_type": "stream",
     "text": [
      "Frequency 1525.49 cm-1\n"
     ]
    },
    {
     "data": {
      "application/vnd.jupyter.widget-view+json": {
       "model_id": "e2c385c3ef5a4a68baf007654e76a87a",
       "version_major": 2,
       "version_minor": 0
      },
      "text/plain": [
       "NGLWidget()"
      ]
     },
     "metadata": {},
     "output_type": "display_data"
    }
   ],
   "source": [
    "view = show_vectors(5, tab)\n",
    "view"
   ]
  },
  {
   "cell_type": "code",
   "execution_count": 305,
   "id": "47f62933-c1ca-4084-a34a-12604bc1b13d",
   "metadata": {},
   "outputs": [],
   "source": [
    "view.download_image(\"nu1525,49.png\", factor=8, antialias=True, transparent=True)"
   ]
  },
  {
   "cell_type": "code",
   "execution_count": 122,
   "id": "7b9f904b-c497-442b-884d-5e286612868f",
   "metadata": {},
   "outputs": [
    {
     "name": "stdout",
     "output_type": "stream",
     "text": [
      "Frequency 1525.49 cm-1\n"
     ]
    },
    {
     "data": {
      "application/vnd.jupyter.widget-view+json": {
       "model_id": "c078dfff23504e4aab298d2b4bd7e2e6",
       "version_major": 2,
       "version_minor": 0
      },
      "text/plain": [
       "NGLWidget()"
      ]
     },
     "metadata": {},
     "output_type": "display_data"
    }
   ],
   "source": [
    "show_vectors(6, tab)"
   ]
  },
  {
   "cell_type": "code",
   "execution_count": 123,
   "id": "50cdcf6c-0b1e-4b13-bd73-105570dd9081",
   "metadata": {},
   "outputs": [
    {
     "name": "stdout",
     "output_type": "stream",
     "text": [
      "Frequency 1328.94 cm-1\n"
     ]
    },
    {
     "data": {
      "application/vnd.jupyter.widget-view+json": {
       "model_id": "40cd163a45b94a8796503f40b6867f8b",
       "version_major": 2,
       "version_minor": 0
      },
      "text/plain": [
       "NGLWidget()"
      ]
     },
     "metadata": {},
     "output_type": "display_data"
    }
   ],
   "source": [
    "show_vectors(7, tab)"
   ]
  },
  {
   "cell_type": "code",
   "execution_count": 124,
   "id": "d0f9f44b-57ad-4aa6-96a5-5ed07197223e",
   "metadata": {},
   "outputs": [
    {
     "name": "stdout",
     "output_type": "stream",
     "text": [
      "Frequency 1328.94 cm-1\n"
     ]
    },
    {
     "data": {
      "application/vnd.jupyter.widget-view+json": {
       "model_id": "62481f9eeda94866aacb0024d8f36dc0",
       "version_major": 2,
       "version_minor": 0
      },
      "text/plain": [
       "NGLWidget()"
      ]
     },
     "metadata": {},
     "output_type": "display_data"
    }
   ],
   "source": [
    "show_vectors(8, tab)"
   ]
  },
  {
   "cell_type": "code",
   "execution_count": 125,
   "id": "aa6feb97-7f2e-4451-ad07-02f27e04f7ec",
   "metadata": {},
   "outputs": [
    {
     "name": "stdout",
     "output_type": "stream",
     "text": [
      "Frequency 1328.94 cm-1\n"
     ]
    },
    {
     "data": {
      "application/vnd.jupyter.widget-view+json": {
       "model_id": "1621ff86c6414e66a8140926086fe22c",
       "version_major": 2,
       "version_minor": 0
      },
      "text/plain": [
       "NGLWidget()"
      ]
     },
     "metadata": {},
     "output_type": "display_data"
    }
   ],
   "source": [
    "show_vectors(9, tab)"
   ]
  },
  {
   "cell_type": "code",
   "execution_count": 137,
   "id": "183babfa-9b15-4d00-be94-36a14f2287da",
   "metadata": {},
   "outputs": [],
   "source": [
    "# Loading IR\n",
    "\n",
    "IR_nist = np.genfromtxt(\"74-82-8-IR.jdx\", comments='#', skip_header=35, skip_footer=1)"
   ]
  },
  {
   "cell_type": "code",
   "execution_count": 148,
   "id": "a2db7f36-7b14-444d-8094-40b66d8d7690",
   "metadata": {},
   "outputs": [
    {
     "data": {
      "image/png": "[encoded data removed]",
      "text/plain": [
       "<Figure size 864x720 with 1 Axes>"
      ]
     },
     "metadata": {
      "needs_background": "light"
     },
     "output_type": "display_data"
    }
   ],
   "source": [
    "plt.figure(figsize=(12, 10))\n",
    "plt.plot(IR_nist[:, 0], IR_nist[:, 1])\n",
    "\n",
    "plt.xlim(3700, 500)\n",
    "\n",
    "plt.ylabel(\"Transmitance\")\n",
    "plt.xlabel(\"Wavenumbers (cm$^{-1}$)\")\n",
    "\n",
    "plt.title(\"Infrared Spectrum - Methane (NIST)\")\n",
    "\n",
    "plt.show()"
   ]
  },
  {
   "cell_type": "code",
   "execution_count": 250,
   "id": "639137dd-f865-4255-a918-c9caa7c17e3c",
   "metadata": {},
   "outputs": [],
   "source": [
    "# File Gaussian\n",
    "out = GaussianOutput(\"../gaussian.test/met_freq/met_resp_freq_opt.out\")"
   ]
  },
  {
   "cell_type": "code",
   "execution_count": 169,
   "id": "c24b22e3-c253-426d-b4fd-3dd9a59feec4",
   "metadata": {},
   "outputs": [],
   "source": [
    "GausFreq = []\n",
    "\n",
    "for i in range(len(out.frequencies[0])):\n",
    "    GausFreq.append(out.frequencies[0][i][\"frequency\"])"
   ]
  },
  {
   "cell_type": "code",
   "execution_count": 171,
   "id": "547e2042-12de-40bb-a5fd-e177dcc4b8da",
   "metadata": {},
   "outputs": [],
   "source": [
    "Gfreq = {}\n",
    "for i in GausFreq:\n",
    "    Gfreq[i] = GausFreq.count(i)"
   ]
  },
  {
   "cell_type": "code",
   "execution_count": 172,
   "id": "7efb0d8d-2418-45c8-b370-7dbefd79171d",
   "metadata": {},
   "outputs": [
    {
     "data": {
      "text/plain": [
       "{1355.3238: 3, 1581.9661: 2, 3028.0728: 1, 3132.1572: 3}"
      ]
     },
     "execution_count": 172,
     "metadata": {},
     "output_type": "execute_result"
    }
   ],
   "source": [
    "Gfreq"
   ]
  },
  {
   "cell_type": "code",
   "execution_count": 175,
   "id": "e26d5acd-4f12-4491-bd2e-c19119b6917c",
   "metadata": {},
   "outputs": [],
   "source": [
    "StampFreq = []\n",
    "for i in tab:\n",
    "    StampFreq.append(tab[i][\"freq\"])"
   ]
  },
  {
   "cell_type": "code",
   "execution_count": 176,
   "id": "e334e6da-8171-43c6-a353-7a27f23c9773",
   "metadata": {},
   "outputs": [],
   "source": [
    "Sfreq = {}\n",
    "for i in StampFreq:\n",
    "    Sfreq[i] = StampFreq.count(i)"
   ]
  },
  {
   "cell_type": "code",
   "execution_count": 177,
   "id": "13787873-6aad-4fea-8227-a6a850c6261b",
   "metadata": {},
   "outputs": [
    {
     "data": {
      "text/plain": [
       "{2938.35: 3, 2779.37: 1, 1525.49: 2, 1328.94: 3}"
      ]
     },
     "execution_count": 177,
     "metadata": {},
     "output_type": "execute_result"
    }
   ],
   "source": [
    "Sfreq"
   ]
  },
  {
   "cell_type": "code",
   "execution_count": 191,
   "id": "57bfe406-46c4-4f8e-8353-825bf577994e",
   "metadata": {},
   "outputs": [
    {
     "data": {
      "text/plain": [
       "[1328.94, 1525.49, 2779.37, 2938.35]"
      ]
     },
     "execution_count": 191,
     "metadata": {},
     "output_type": "execute_result"
    }
   ],
   "source": [
    "sorted(list(Sfreq.keys()))"
   ]
  },
  {
   "cell_type": "code",
   "execution_count": 182,
   "id": "20748f51-541c-4d3f-89be-8ead539c0922",
   "metadata": {},
   "outputs": [
    {
     "data": {
      "text/plain": [
       "dict_values([3, 1, 2, 3])"
      ]
     },
     "execution_count": 182,
     "metadata": {},
     "output_type": "execute_result"
    }
   ],
   "source": [
    "Sfreq.values()"
   ]
  },
  {
   "cell_type": "code",
   "execution_count": 205,
   "id": "8f435429-88f2-47da-a3b5-748f8045a914",
   "metadata": {},
   "outputs": [
    {
     "data": {
      "text/plain": [
       "array([['2938.35', '2779.37', '1525.49', '1328.94'],\n",
       "       ['3132.1572', '3028.0728', '1581.9661', '1355.3238'],\n",
       "       ['C-H stretch', 'C-H stretch', 'H-C-H bending', 'H-C-H bending']],\n",
       "      dtype='<U32')"
      ]
     },
     "execution_count": 205,
     "metadata": {},
     "output_type": "execute_result"
    }
   ],
   "source": [
    "freqs = np.array([\n",
    "    sorted(list(Sfreq.keys()), reverse=True),\n",
    "    sorted(list(Gfreq.keys()), reverse=True),\n",
    "    [\"C-H stretch\", \"C-H stretch\", \"H-C-H bending\", \"H-C-H bending\"]\n",
    "])\n",
    "freqs"
   ]
  },
  {
   "cell_type": "code",
   "execution_count": 206,
   "id": "8dcd884e-e9d6-4f09-b292-0250260d767b",
   "metadata": {},
   "outputs": [
    {
     "data": {
      "text/html": [
       "<div>\n",
       "<style scoped>\n",
       "    .dataframe tbody tr th:only-of-type {\n",
       "        vertical-align: middle;\n",
       "    }\n",
       "\n",
       "    .dataframe tbody tr th {\n",
       "        vertical-align: top;\n",
       "    }\n",
       "\n",
       "    .dataframe thead th {\n",
       "        text-align: right;\n",
       "    }\n",
       "</style>\n",
       "<table border=\"1\" class=\"dataframe\">\n",
       "  <thead>\n",
       "    <tr style=\"text-align: right;\">\n",
       "      <th></th>\n",
       "      <th>0</th>\n",
       "      <th>1</th>\n",
       "      <th>2</th>\n",
       "      <th>3</th>\n",
       "    </tr>\n",
       "  </thead>\n",
       "  <tbody>\n",
       "    <tr>\n",
       "      <th>Stamp</th>\n",
       "      <td>2938.35</td>\n",
       "      <td>2779.37</td>\n",
       "      <td>1525.49</td>\n",
       "      <td>1328.94</td>\n",
       "    </tr>\n",
       "    <tr>\n",
       "      <th>Gaussian</th>\n",
       "      <td>3132.1572</td>\n",
       "      <td>3028.0728</td>\n",
       "      <td>1581.9661</td>\n",
       "      <td>1355.3238</td>\n",
       "    </tr>\n",
       "    <tr>\n",
       "      <th>Description</th>\n",
       "      <td>C-H stretch</td>\n",
       "      <td>C-H stretch</td>\n",
       "      <td>H-C-H bending</td>\n",
       "      <td>H-C-H bending</td>\n",
       "    </tr>\n",
       "  </tbody>\n",
       "</table>\n",
       "</div>"
      ],
      "text/plain": [
       "                       0            1              2              3\n",
       "Stamp            2938.35      2779.37        1525.49        1328.94\n",
       "Gaussian       3132.1572    3028.0728      1581.9661      1355.3238\n",
       "Description  C-H stretch  C-H stretch  H-C-H bending  H-C-H bending"
      ]
     },
     "execution_count": 206,
     "metadata": {},
     "output_type": "execute_result"
    }
   ],
   "source": [
    "table_freq = pd.DataFrame(\n",
    "    freqs, index=[\"Stamp\", \"Gaussian\", \"Description\"]\n",
    ")\n",
    "table_freq"
   ]
  },
  {
   "cell_type": "code",
   "execution_count": 207,
   "id": "46be19a4-3f14-49fe-ad9e-cd29425a223b",
   "metadata": {},
   "outputs": [
    {
     "data": {
      "text/plain": [
       "array([[-6.2     , -6.2     , -6.2     ],\n",
       "       [-5.567246, -5.567246, -5.567246],\n",
       "       [-6.832754, -6.832754, -5.567246],\n",
       "       [-5.567246, -6.832754, -6.832754],\n",
       "       [-6.832754, -5.567246, -6.832754]])"
      ]
     },
     "execution_count": 207,
     "metadata": {},
     "output_type": "execute_result"
    }
   ],
   "source": [
    "coords = tab[1][\"coord\"].loc[:, [\"x\", \"y\", \"z\"]].values\n",
    "coords"
   ]
  },
  {
   "cell_type": "code",
   "execution_count": 208,
   "id": "3482dfbd-3feb-4fa1-85e4-5dc7ce8c37ba",
   "metadata": {},
   "outputs": [
    {
     "data": {
      "text/plain": [
       "['C', 'H', 'H', 'H', 'H']"
      ]
     },
     "execution_count": 208,
     "metadata": {},
     "output_type": "execute_result"
    }
   ],
   "source": [
    "atoms = list(tab[1][\"coord\"].loc[:, [\"atsb\"]].values.T[0])\n",
    "atoms"
   ]
  },
  {
   "cell_type": "code",
   "execution_count": 209,
   "id": "46eeb099-a827-42d7-bd3a-5580cf11097b",
   "metadata": {},
   "outputs": [],
   "source": [
    "mol = Molecule(atoms, coords)"
   ]
  },
  {
   "cell_type": "code",
   "execution_count": 210,
   "id": "1caebb5c-9687-4d0d-9b47-86d0b7e2f27f",
   "metadata": {},
   "outputs": [
    {
     "data": {
      "text/plain": [
       "\u001b[0;31mInit signature:\u001b[0m\n",
       "\u001b[0mMolecule\u001b[0m\u001b[0;34m(\u001b[0m\u001b[0;34m\u001b[0m\n",
       "\u001b[0;34m\u001b[0m    \u001b[0mspecies\u001b[0m\u001b[0;34m:\u001b[0m \u001b[0;34m'Sequence[SpeciesLike]'\u001b[0m\u001b[0;34m,\u001b[0m\u001b[0;34m\u001b[0m\n",
       "\u001b[0;34m\u001b[0m    \u001b[0mcoords\u001b[0m\u001b[0;34m:\u001b[0m \u001b[0;34m'Sequence[ArrayLike]'\u001b[0m\u001b[0;34m,\u001b[0m\u001b[0;34m\u001b[0m\n",
       "\u001b[0;34m\u001b[0m    \u001b[0mcharge\u001b[0m\u001b[0;34m:\u001b[0m \u001b[0;34m'float'\u001b[0m \u001b[0;34m=\u001b[0m \u001b[0;36m0.0\u001b[0m\u001b[0;34m,\u001b[0m\u001b[0;34m\u001b[0m\n",
       "\u001b[0;34m\u001b[0m    \u001b[0mspin_multiplicity\u001b[0m\u001b[0;34m:\u001b[0m \u001b[0;34m'int'\u001b[0m \u001b[0;34m=\u001b[0m \u001b[0;32mNone\u001b[0m\u001b[0;34m,\u001b[0m\u001b[0;34m\u001b[0m\n",
       "\u001b[0;34m\u001b[0m    \u001b[0mvalidate_proximity\u001b[0m\u001b[0;34m:\u001b[0m \u001b[0;34m'bool'\u001b[0m \u001b[0;34m=\u001b[0m \u001b[0;32mFalse\u001b[0m\u001b[0;34m,\u001b[0m\u001b[0;34m\u001b[0m\n",
       "\u001b[0;34m\u001b[0m    \u001b[0msite_properties\u001b[0m\u001b[0;34m:\u001b[0m \u001b[0;34m'dict'\u001b[0m \u001b[0;34m=\u001b[0m \u001b[0;32mNone\u001b[0m\u001b[0;34m,\u001b[0m\u001b[0;34m\u001b[0m\n",
       "\u001b[0;34m\u001b[0m    \u001b[0mcharge_spin_check\u001b[0m\u001b[0;34m:\u001b[0m \u001b[0;34m'bool'\u001b[0m \u001b[0;34m=\u001b[0m \u001b[0;32mTrue\u001b[0m\u001b[0;34m,\u001b[0m\u001b[0;34m\u001b[0m\n",
       "\u001b[0;34m\u001b[0m\u001b[0;34m)\u001b[0m \u001b[0;34m->\u001b[0m \u001b[0;34m'None'\u001b[0m\u001b[0;34m\u001b[0m\u001b[0;34m\u001b[0m\u001b[0m\n",
       "\u001b[0;31mDocstring:\u001b[0m     \n",
       "Mutable Molecule. It has all the methods in IMolecule, but in addition,\n",
       "it allows a user to perform edits on the molecule.\n",
       "\u001b[0;31mInit docstring:\u001b[0m\n",
       "Creates a MutableMolecule.\n",
       "\n",
       "Args:\n",
       "    species: list of atomic species. Possible kinds of input include a\n",
       "        list of dict of elements/species and occupancies, a List of\n",
       "        elements/specie specified as actual Element/Species, Strings\n",
       "        (\"Fe\", \"Fe2+\") or atomic numbers (1,56).\n",
       "    coords (3x1 array): list of Cartesian coordinates of each species.\n",
       "    charge (float): Charge for the molecule. Defaults to 0.\n",
       "    spin_multiplicity (int): Spin multiplicity for molecule.\n",
       "        Defaults to None, which means that the spin multiplicity is\n",
       "        set to 1 if the molecule has no unpaired electrons and to 2\n",
       "        if there are unpaired electrons.\n",
       "    validate_proximity (bool): Whether to check if there are sites\n",
       "        that are less than 1 Ang apart. Defaults to False.\n",
       "    site_properties (dict): Properties associated with the sites as\n",
       "        a dict of sequences, e.g., {\"magmom\":[5,5,5,5]}. The\n",
       "        sequences have to be the same length as the atomic species\n",
       "        and fractional_coords. Defaults to None for no properties.\n",
       "    charge_spin_check (bool): Whether to check that the charge and\n",
       "        spin multiplicity are compatible with each other. Defaults\n",
       "        to True.\n",
       "\u001b[0;31mFile:\u001b[0m           ~/anaconda3/envs/SimMOL/lib/python3.9/site-packages/pymatgen/core/structure.py\n",
       "\u001b[0;31mType:\u001b[0m           ABCMeta\n",
       "\u001b[0;31mSubclasses:\u001b[0m     \n"
      ]
     },
     "metadata": {},
     "output_type": "display_data"
    }
   ],
   "source": [
    "Molecule?"
   ]
  },
  {
   "cell_type": "code",
   "execution_count": 226,
   "id": "269191c1-df48-4c7a-bfdc-c8c04f1b1347",
   "metadata": {},
   "outputs": [],
   "source": [
    "import importlib.util\n",
    "import networkx as nx"
   ]
  },
  {
   "cell_type": "code",
   "execution_count": 215,
   "id": "ac05187f-746b-43e6-ac44-326d869d76dc",
   "metadata": {},
   "outputs": [],
   "source": [
    "spec = importlib.util.spec_from_file_location(\"structure\", \"/home/ovillegas/GITPROYECTS/PhotonasticMat/moltools/structure.py\")"
   ]
  },
  {
   "cell_type": "code",
   "execution_count": 216,
   "id": "90100ec7-dc66-4ae0-bc71-91002215671b",
   "metadata": {},
   "outputs": [],
   "source": [
    "stools = importlib.util.module_from_spec(spec)"
   ]
  },
  {
   "cell_type": "code",
   "execution_count": 217,
   "id": "da19d4a2-16b7-4b06-a2d3-167e32a6cf78",
   "metadata": {},
   "outputs": [],
   "source": [
    "spec.loader.exec_module(stools)"
   ]
  },
  {
   "cell_type": "code",
   "execution_count": 220,
   "id": "3bf6c6f0-6762-4516-a2d8-26ad5bbbce79",
   "metadata": {},
   "outputs": [
    {
     "data": {
      "text/html": [
       "<div>\n",
       "<style scoped>\n",
       "    .dataframe tbody tr th:only-of-type {\n",
       "        vertical-align: middle;\n",
       "    }\n",
       "\n",
       "    .dataframe tbody tr th {\n",
       "        vertical-align: top;\n",
       "    }\n",
       "\n",
       "    .dataframe thead th {\n",
       "        text-align: right;\n",
       "    }\n",
       "</style>\n",
       "<table border=\"1\" class=\"dataframe\">\n",
       "  <thead>\n",
       "    <tr style=\"text-align: right;\">\n",
       "      <th></th>\n",
       "      <th>atsb</th>\n",
       "      <th>x</th>\n",
       "      <th>y</th>\n",
       "      <th>z</th>\n",
       "    </tr>\n",
       "  </thead>\n",
       "  <tbody>\n",
       "    <tr>\n",
       "      <th>0</th>\n",
       "      <td>C</td>\n",
       "      <td>-6.200000</td>\n",
       "      <td>-6.200000</td>\n",
       "      <td>-6.200000</td>\n",
       "    </tr>\n",
       "    <tr>\n",
       "      <th>1</th>\n",
       "      <td>H</td>\n",
       "      <td>-5.567246</td>\n",
       "      <td>-5.567246</td>\n",
       "      <td>-5.567246</td>\n",
       "    </tr>\n",
       "    <tr>\n",
       "      <th>2</th>\n",
       "      <td>H</td>\n",
       "      <td>-6.832754</td>\n",
       "      <td>-6.832754</td>\n",
       "      <td>-5.567246</td>\n",
       "    </tr>\n",
       "    <tr>\n",
       "      <th>3</th>\n",
       "      <td>H</td>\n",
       "      <td>-5.567246</td>\n",
       "      <td>-6.832754</td>\n",
       "      <td>-6.832754</td>\n",
       "    </tr>\n",
       "    <tr>\n",
       "      <th>4</th>\n",
       "      <td>H</td>\n",
       "      <td>-6.832754</td>\n",
       "      <td>-5.567246</td>\n",
       "      <td>-6.832754</td>\n",
       "    </tr>\n",
       "  </tbody>\n",
       "</table>\n",
       "</div>"
      ],
      "text/plain": [
       "  atsb         x         y         z\n",
       "0    C -6.200000 -6.200000 -6.200000\n",
       "1    H -5.567246 -5.567246 -5.567246\n",
       "2    H -6.832754 -6.832754 -5.567246\n",
       "3    H -5.567246 -6.832754 -6.832754\n",
       "4    H -6.832754 -5.567246 -6.832754"
      ]
     },
     "execution_count": 220,
     "metadata": {},
     "output_type": "execute_result"
    }
   ],
   "source": [
    "coords = tab[1][\"coord\"].loc[:, [\"atsb\", \"x\", \"y\", \"z\"]]\n",
    "coords"
   ]
  },
  {
   "cell_type": "code",
   "execution_count": 221,
   "id": "bd2bd573-c66d-492c-96ba-2f2d016269b6",
   "metadata": {},
   "outputs": [],
   "source": [
    "connect = stools.connectivity()"
   ]
  },
  {
   "cell_type": "code",
   "execution_count": 222,
   "id": "2d149e01-28f2-4469-a237-7c0a27243c88",
   "metadata": {},
   "outputs": [],
   "source": [
    "connect.get_connectivity(coords)"
   ]
  },
  {
   "cell_type": "code",
   "execution_count": 223,
   "id": "a9e44871-a96e-4efa-854c-0e775f5aec9f",
   "metadata": {},
   "outputs": [
    {
     "data": {
      "text/plain": [
       "{0: [1, 2, 3, 4], 1: [0], 2: [0], 3: [0], 4: [0]}"
      ]
     },
     "execution_count": 223,
     "metadata": {},
     "output_type": "execute_result"
    }
   ],
   "source": [
    "connect.atoms_map"
   ]
  },
  {
   "cell_type": "code",
   "execution_count": 233,
   "id": "9ced8ac3-504e-4e10-8e6b-d20f13133271",
   "metadata": {},
   "outputs": [
    {
     "data": {
      "text/plain": [
       "{'xyz': array([-6.2, -6.2, -6.2], dtype=object), 'atsb': 'C'}"
      ]
     },
     "execution_count": 233,
     "metadata": {},
     "output_type": "execute_result"
    }
   ],
   "source": [
    "connect.nodes[0]"
   ]
  },
  {
   "cell_type": "code",
   "execution_count": 225,
   "id": "ef8bd22a-5de4-4ba6-bf36-480867e0d573",
   "metadata": {},
   "outputs": [
    {
     "name": "stdout",
     "output_type": "stream",
     "text": [
      "{'dist': 1.0959620766924378}\n",
      "{'dist': 1.0959620766924378}\n",
      "{'dist': 1.0959620766924378}\n",
      "{'dist': 1.0959620766924378}\n"
     ]
    }
   ],
   "source": [
    "for H in connect[0]:\n",
    "    print(connect[0][H])"
   ]
  },
  {
   "cell_type": "code",
   "execution_count": 228,
   "id": "34429b8b-c2db-4988-9d68-5bdf96bce594",
   "metadata": {},
   "outputs": [],
   "source": [
    "all_ps = dict(nx.algorithms.all_pairs_shortest_path_length(connect))\n",
    "\n",
    "all_paths = []\n",
    "\n",
    "for s in all_ps.keys():\n",
    "    for e in all_ps[s].keys():\n",
    "        if all_ps[s][e] == 1:\n",
    "            all_paths += list(nx.algorithms.all_simple_paths(connect, s, e, cutoff=1))\n",
    "        elif all_ps[s][e] == 2:\n",
    "            all_paths += list(nx.algorithms.all_simple_paths(connect, s, e, cutoff=2))\n",
    "        elif all_ps[s][e] == 3:\n",
    "            all_paths += list(nx.algorithms.all_simple_paths(connect, s, e, cutoff=3))\n",
    "                \n",
    "    \n",
    "angles_list = [tuple(p) for p in all_paths if len(set(p)) == 3]"
   ]
  },
  {
   "cell_type": "code",
   "execution_count": 290,
   "id": "984476f6-446f-4c81-b2a8-debdc5f7b3f0",
   "metadata": {},
   "outputs": [
    {
     "name": "stdout",
     "output_type": "stream",
     "text": [
      "1 0 2\n",
      "[0.632754 0.632754 0.632754]\n",
      "[-0.632754 -0.632754  0.632754]\n",
      "109.47122063449069\n",
      "1 0 3\n",
      "[0.632754 0.632754 0.632754]\n",
      "[ 0.632754 -0.632754 -0.632754]\n",
      "109.47122063449069\n",
      "1 0 4\n",
      "[0.632754 0.632754 0.632754]\n",
      "[-0.632754  0.632754 -0.632754]\n",
      "109.47122063449069\n",
      "2 0 3\n",
      "[-0.632754 -0.632754  0.632754]\n",
      "[ 0.632754 -0.632754 -0.632754]\n",
      "109.47122063449069\n",
      "2 0 4\n",
      "[-0.632754 -0.632754  0.632754]\n",
      "[-0.632754  0.632754 -0.632754]\n",
      "109.47122063449069\n",
      "3 0 4\n",
      "[ 0.632754 -0.632754 -0.632754]\n",
      "[-0.632754  0.632754 -0.632754]\n",
      "109.47122063449069\n"
     ]
    }
   ],
   "source": [
    "for i,j,k in angles_list:\n",
    "    if i < k:\n",
    "        print(i, j, k)  # connect.nodes[0]\n",
    "        vc = connect.nodes[j][\"xyz\"].astype(np.float64)\n",
    "        vh1 = connect.nodes[i][\"xyz\"].astype(np.float64)\n",
    "        vh2 = connect.nodes[k][\"xyz\"].astype(np.float64)\n",
    "    \n",
    "        vch1 = vh1 - vc\n",
    "        vch2 = vh2 - vc\n",
    "    \n",
    "        print(vch1)\n",
    "        print(vch2)\n",
    "    \n",
    "        vch1_norm = vch1 / np.linalg.norm(vch1)\n",
    "        vch2_norm = vch2 / np.linalg.norm(vch2)\n",
    "    \n",
    "        dot_product = np.dot(vch1_norm, vch2_norm)\n",
    "        angle = np.arccos(dot_product) * 180 / np.pi\n",
    "    \n",
    "        print(angle)\n",
    "    "
   ]
  },
  {
   "cell_type": "code",
   "execution_count": 241,
   "id": "ab84032a-6d9e-4e32-9ed7-08d66105084a",
   "metadata": {},
   "outputs": [
    {
     "data": {
      "text/plain": [
       "Molecule Summary\n",
       "Site: C (-6.2000, -6.2000, -6.2000)\n",
       "Site: H (-5.5672, -5.5672, -5.5672)\n",
       "Site: H (-6.8328, -6.8328, -5.5672)\n",
       "Site: H (-5.5672, -6.8328, -6.8328)\n",
       "Site: H (-6.8328, -5.5672, -6.8328)"
      ]
     },
     "execution_count": 241,
     "metadata": {},
     "output_type": "execute_result"
    }
   ],
   "source": [
    "mol"
   ]
  },
  {
   "cell_type": "code",
   "execution_count": 259,
   "id": "e0aa0066-9a0b-49a3-9854-02ed3339bcf2",
   "metadata": {},
   "outputs": [],
   "source": [
    "molG = out.opt_structures[0]"
   ]
  },
  {
   "cell_type": "code",
   "execution_count": 260,
   "id": "a5e219d1-910e-4fa1-bd47-9ab39f983ab4",
   "metadata": {},
   "outputs": [
    {
     "data": {
      "text/plain": [
       "array([[ 0.     ,  0.     ,  0.     ],\n",
       "       [ 0.62565,  0.62565,  0.62565],\n",
       "       [-0.62565, -0.62565,  0.62565],\n",
       "       [ 0.62565, -0.62565, -0.62565],\n",
       "       [-0.62565,  0.62565, -0.62565]])"
      ]
     },
     "execution_count": 260,
     "metadata": {},
     "output_type": "execute_result"
    }
   ],
   "source": [
    "molG.cart_coords"
   ]
  },
  {
   "cell_type": "code",
   "execution_count": 264,
   "id": "548f4927-3bf9-4159-987e-13dbf98af21e",
   "metadata": {},
   "outputs": [
    {
     "data": {
      "text/plain": [
       "array([[0.        , 1.08365759, 1.08365759, 1.08365759, 1.08365759],\n",
       "       [1.08365759, 0.        , 1.76960543, 1.76960543, 1.76960543],\n",
       "       [1.08365759, 1.76960543, 0.        , 1.76960543, 1.76960543],\n",
       "       [1.08365759, 1.76960543, 1.76960543, 0.        , 1.76960543],\n",
       "       [1.08365759, 1.76960543, 1.76960543, 1.76960543, 0.        ]])"
      ]
     },
     "execution_count": 264,
     "metadata": {},
     "output_type": "execute_result"
    }
   ],
   "source": [
    "molG.distance_matrix"
   ]
  },
  {
   "cell_type": "code",
   "execution_count": 265,
   "id": "e8edf222-5356-4d5c-8c9c-eea1b02f1b5f",
   "metadata": {},
   "outputs": [
    {
     "data": {
      "text/plain": [
       "array([[0.        , 1.09596208, 1.09596208, 1.09596208, 1.09596208],\n",
       "       [1.09596208, 0.        , 1.78969858, 1.78969858, 1.78969858],\n",
       "       [1.09596208, 1.78969858, 0.        , 1.78969858, 1.78969858],\n",
       "       [1.09596208, 1.78969858, 1.78969858, 0.        , 1.78969858],\n",
       "       [1.09596208, 1.78969858, 1.78969858, 1.78969858, 0.        ]])"
      ]
     },
     "execution_count": 265,
     "metadata": {},
     "output_type": "execute_result"
    }
   ],
   "source": [
    "mol.distance_matrix"
   ]
  },
  {
   "cell_type": "code",
   "execution_count": 274,
   "id": "f66e9888-a6db-4a51-8a87-6325ad098201",
   "metadata": {},
   "outputs": [],
   "source": [
    "import itertools as it"
   ]
  },
  {
   "cell_type": "code",
   "execution_count": 281,
   "id": "a158ecf7-1b72-41b9-9564-cb3e770bbfa1",
   "metadata": {},
   "outputs": [
    {
     "data": {
      "text/plain": [
       "(0,)"
      ]
     },
     "execution_count": 281,
     "metadata": {},
     "output_type": "execute_result"
    }
   ],
   "source": [
    "molG.indices_from_symbol(\"C\")"
   ]
  },
  {
   "cell_type": "code",
   "execution_count": 282,
   "id": "02a6e005-2d8e-43b4-a9bf-42fe262a9d12",
   "metadata": {},
   "outputs": [
    {
     "data": {
      "text/plain": [
       "(1, 2, 3, 4)"
      ]
     },
     "execution_count": 282,
     "metadata": {},
     "output_type": "execute_result"
    }
   ],
   "source": [
    "molG.indices_from_symbol(\"H\")"
   ]
  },
  {
   "cell_type": "code",
   "execution_count": 286,
   "id": "1df2b505-9845-4146-b400-ebb8aa0b2143",
   "metadata": {},
   "outputs": [
    {
     "name": "stdout",
     "output_type": "stream",
     "text": [
      "0 1\n",
      "1.0836575877554682\n",
      "0 2\n",
      "1.0836575877554682\n",
      "0 3\n",
      "1.0836575877554682\n",
      "0 4\n",
      "1.0836575877554682\n"
     ]
    }
   ],
   "source": [
    "for i,j in it.product(molG.indices_from_symbol(\"C\"), molG.indices_from_symbol(\"H\")):\n",
    "    print(i, j)\n",
    "    print(molG.get_distance(i, j))"
   ]
  },
  {
   "cell_type": "code",
   "execution_count": 293,
   "id": "399f4f0d-ea79-42e9-929e-e40f4d8751f3",
   "metadata": {},
   "outputs": [
    {
     "name": "stdout",
     "output_type": "stream",
     "text": [
      "0 1\n",
      "1.0959620766924378\n",
      "0 2\n",
      "1.0959620766924378\n",
      "0 3\n",
      "1.0959620766924378\n",
      "0 4\n",
      "1.0959620766924378\n"
     ]
    }
   ],
   "source": [
    "for i,j in it.product(mol.indices_from_symbol(\"C\"), mol.indices_from_symbol(\"H\")):\n",
    "    print(i, j)\n",
    "    print(mol.get_distance(i, j))"
   ]
  },
  {
   "cell_type": "code",
   "execution_count": 291,
   "id": "a72fa829-983c-4b18-9b33-27575f998539",
   "metadata": {},
   "outputs": [
    {
     "name": "stdout",
     "output_type": "stream",
     "text": [
      "1 0 2\n",
      "109.47122063449069\n",
      "1 0 3\n",
      "109.47122063449069\n",
      "1 0 4\n",
      "109.47122063449069\n",
      "2 0 3\n",
      "109.47122063449069\n",
      "2 0 4\n",
      "109.47122063449069\n",
      "3 0 4\n",
      "109.47122063449069\n"
     ]
    }
   ],
   "source": [
    "for i,j,k in it.product(molG.indices_from_symbol(\"H\"), molG.indices_from_symbol(\"C\"), molG.indices_from_symbol(\"H\")):\n",
    "    if i != k and i < k:\n",
    "        print(i, j, k)\n",
    "        print(molG.get_angle(i, j, k))"
   ]
  },
  {
   "cell_type": "code",
   "execution_count": 292,
   "id": "d5578805-6dc1-4552-a5cd-ab6c8fa2f7da",
   "metadata": {},
   "outputs": [
    {
     "name": "stdout",
     "output_type": "stream",
     "text": [
      "1 0 2\n",
      "109.47122063449069\n",
      "1 0 3\n",
      "109.47122063449069\n",
      "1 0 4\n",
      "109.47122063449069\n",
      "2 0 3\n",
      "109.47122063449069\n",
      "2 0 4\n",
      "109.47122063449069\n",
      "3 0 4\n",
      "109.47122063449069\n"
     ]
    }
   ],
   "source": [
    "for i,j,k in it.product(mol.indices_from_symbol(\"H\"), mol.indices_from_symbol(\"C\"), mol.indices_from_symbol(\"H\")):\n",
    "    if i != k and i < k:\n",
    "        print(i, j, k)\n",
    "        print(mol.get_angle(i, j, k))"
   ]
  },
  {
   "cell_type": "code",
   "execution_count": 294,
   "id": "affb9f81-26fc-4bc1-bae4-2030e5a1766d",
   "metadata": {},
   "outputs": [
    {
     "data": {
      "text/html": [
       "<div>\n",
       "<style scoped>\n",
       "    .dataframe tbody tr th:only-of-type {\n",
       "        vertical-align: middle;\n",
       "    }\n",
       "\n",
       "    .dataframe tbody tr th {\n",
       "        vertical-align: top;\n",
       "    }\n",
       "\n",
       "    .dataframe thead th {\n",
       "        text-align: right;\n",
       "    }\n",
       "</style>\n",
       "<table border=\"1\" class=\"dataframe\">\n",
       "  <thead>\n",
       "    <tr style=\"text-align: right;\">\n",
       "      <th></th>\n",
       "      <th>rCH (angs)</th>\n",
       "      <th>aHCH (degrees)</th>\n",
       "    </tr>\n",
       "  </thead>\n",
       "  <tbody>\n",
       "    <tr>\n",
       "      <th>Stamp</th>\n",
       "      <td>1.096</td>\n",
       "      <td>109.471</td>\n",
       "    </tr>\n",
       "    <tr>\n",
       "      <th>Gaussian</th>\n",
       "      <td>1.083</td>\n",
       "      <td>109.471</td>\n",
       "    </tr>\n",
       "    <tr>\n",
       "      <th>NIST</th>\n",
       "      <td>1.087</td>\n",
       "      <td>109.471</td>\n",
       "    </tr>\n",
       "  </tbody>\n",
       "</table>\n",
       "</div>"
      ],
      "text/plain": [
       "          rCH (angs)  aHCH (degrees)\n",
       "Stamp          1.096         109.471\n",
       "Gaussian       1.083         109.471\n",
       "NIST           1.087         109.471"
      ]
     },
     "execution_count": 294,
     "metadata": {},
     "output_type": "execute_result"
    }
   ],
   "source": [
    "table_geom = pd.DataFrame({\n",
    "    \"rCH (angs)\": [1.096, 1.083, 1.087],\n",
    "    \"aHCH (degrees)\": [109.471, 109.471, 109.471]\n",
    "}, index=[\"Stamp\", \"Gaussian\", \"NIST\"])\n",
    "table_geom"
   ]
  },
  {
   "cell_type": "code",
   "execution_count": 306,
   "id": "f1b51362-972d-4912-9d97-e03ac0fd1620",
   "metadata": {},
   "outputs": [],
   "source": [
    "table_freq.to_html(\"table_freq.html\")"
   ]
  },
  {
   "cell_type": "code",
   "execution_count": 307,
   "id": "79be4704-6f16-4607-a36f-e302deb8e843",
   "metadata": {},
   "outputs": [],
   "source": [
    "table_geom.to_html(\"table_geom.html\")"
   ]
  },
  {
   "cell_type": "code",
   "execution_count": null,
   "id": "c3371887-b10f-4495-a35f-d0eb379c29e0",
   "metadata": {},
   "outputs": [],
   "source": []
  }
 ],
 "metadata": {
  "kernelspec": {
   "display_name": "Python 3 (ipykernel)",
   "language": "python",
   "name": "python3"
  },
  "language_info": {
   "codemirror_mode": {
    "name": "ipython",
    "version": 3
   },
   "file_extension": ".py",
   "mimetype": "text/x-python",
   "name": "python",
   "nbconvert_exporter": "python",
   "pygments_lexer": "ipython3",
   "version": "3.9.12"
  }
 },
 "nbformat": 4,
 "nbformat_minor": 5
}
