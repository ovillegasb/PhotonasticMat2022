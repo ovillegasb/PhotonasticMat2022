{
 "cells": [
  {
   "cell_type": "code",
   "execution_count": 4,
   "id": "06f1f911-8160-43f2-ba26-ab0390a2c080",
   "metadata": {},
   "outputs": [],
   "source": [
    "from pymatgen.core.structure import Molecule\n",
    "from pymatgen.io.gaussian import GaussianInput"
   ]
  },
  {
   "cell_type": "code",
   "execution_count": 3,
   "id": "e43ee304-fc1e-4a86-a6a9-208d8983d13e",
   "metadata": {},
   "outputs": [],
   "source": [
    "mol = Molecule.from_file(\"../test/xyz/met.xyz\")"
   ]
  },
  {
   "cell_type": "code",
   "execution_count": 9,
   "id": "7096d7bb-c46d-4073-a2d9-11ec040de54d",
   "metadata": {},
   "outputs": [],
   "source": [
    "gaus = GaussianInput(\n",
    "    mol,\n",
    "    charge=0,\n",
    "    spin_multiplicity=1,\n",
    "    title=\"Methane\",\n",
    "    functional=\"HF\",\n",
    "    basis_set=\"6-31G(d)\",\n",
    "    route_parameters={\n",
    "        \"OPT\": \"\",\n",
    "        \"SCF\": \"Tight\"\n",
    "    },\n",
    "    link0_parameters={\n",
    "        \"%chk\": \"met_opt.chk\"\n",
    "    },\n",
    "    dieze_tag=\"#p\"\n",
    ")"
   ]
  },
  {
   "cell_type": "code",
   "execution_count": 11,
   "id": "4e390df5-cfe8-4a8e-983b-695d25005a94",
   "metadata": {},
   "outputs": [
    {
     "name": "stdout",
     "output_type": "stream",
     "text": [
      "C\n",
      "H 1 B1\n",
      "H 1 B2 2 A2\n",
      "H 1 B3 3 A3 2 D3\n",
      "H 1 B4 4 A4 3 D4\n",
      "\n",
      "B1=1.109400\n",
      "B2=1.109405\n",
      "A2=109.471125\n",
      "B3=1.109407\n",
      "A3=109.471228\n",
      "D3=120.000451\n",
      "B4=1.109405\n",
      "A4=109.470656\n",
      "D4=-119.999394\n"
     ]
    }
   ],
   "source": [
    "print(gaus.get_zmatrix())"
   ]
  },
  {
   "cell_type": "code",
   "execution_count": 12,
   "id": "e2ccf4ab-9088-4d0c-9a22-c0453c92d593",
   "metadata": {},
   "outputs": [],
   "source": [
    "gaus.write_file(\"met_opt.com\", cart_coords=False)"
   ]
  },
  {
   "cell_type": "code",
   "execution_count": null,
   "id": "7c458134-33c9-40d0-a386-bb78e194c54e",
   "metadata": {},
   "outputs": [],
   "source": [
    "\"\"\"\n",
    "Add -->\n",
    "\n",
    "--Link1--\n",
    "%chk=met_opt.chk\n",
    "#p HF/6-31G(d) SCF=Tight Pop=(MK,ReadRadii) IOp(6/33=2,6/41=10,6/42=17) geom=checkpoint guess=read\n",
    "\n",
    "Met charge RESP\n",
    "\n",
    "0 1\n",
    "\"\"\""
   ]
  }
 ],
 "metadata": {
  "kernelspec": {
   "display_name": "Python 3 (ipykernel)",
   "language": "python",
   "name": "python3"
  },
  "language_info": {
   "codemirror_mode": {
    "name": "ipython",
    "version": 3
   },
   "file_extension": ".py",
   "mimetype": "text/x-python",
   "name": "python",
   "nbconvert_exporter": "python",
   "pygments_lexer": "ipython3",
   "version": "3.9.12"
  }
 },
 "nbformat": 4,
 "nbformat_minor": 5
}
