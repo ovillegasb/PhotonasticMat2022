{
 "cells": [
  {
   "cell_type": "code",
   "execution_count": 1,
   "id": "5d045306-8541-44c9-a14d-590fbd6f675d",
   "metadata": {},
   "outputs": [],
   "source": [
    "from rdkit import Chem\n",
    "from rdkit.Chem import AllChem"
   ]
  },
  {
   "cell_type": "code",
   "execution_count": 2,
   "id": "256df636-d65e-4089-98c8-e519bd555c41",
   "metadata": {},
   "outputs": [],
   "source": [
    "m = Chem.MolFromMolFile(\"../test/mol/met.mol\")"
   ]
  },
  {
   "cell_type": "code",
   "execution_count": 3,
   "id": "cf6f9c09-efb7-4a23-9004-d7bbbfa1f181",
   "metadata": {},
   "outputs": [
    {
     "data": {
      "image/png": "[encoded data removed]",
      "text/plain": [
       "<rdkit.Chem.rdchem.Mol at 0x7f4ad99718a0>"
      ]
     },
     "execution_count": 3,
     "metadata": {},
     "output_type": "execute_result"
    }
   ],
   "source": [
    "m"
   ]
  },
  {
   "cell_type": "code",
   "execution_count": 4,
   "id": "1c756c85-cea7-4eb9-ab4d-fa9c1cd67658",
   "metadata": {},
   "outputs": [],
   "source": [
    "template = Chem.MolFromSmiles('c1nccc2n1ccc2')"
   ]
  },
  {
   "cell_type": "code",
   "execution_count": 5,
   "id": "719ce707-df8d-4a8d-ab29-901de9dfe4d8",
   "metadata": {},
   "outputs": [
    {
     "data": {
      "text/plain": [
       "0"
      ]
     },
     "execution_count": 5,
     "metadata": {},
     "output_type": "execute_result"
    }
   ],
   "source": [
    "AllChem.Compute2DCoords(template)"
   ]
  },
  {
   "cell_type": "code",
   "execution_count": 6,
   "id": "f40bdacb-833b-4b39-994a-663a631e6c18",
   "metadata": {},
   "outputs": [],
   "source": [
    "ms = [Chem.MolFromSmiles(smi) for smi in ('OCCc1ccn2cnccc12','C1CC1Oc1cc2ccncn2c1','CNC(=O)c1nccc2cccn12')]\n",
    "for m in ms:\n",
    "    _ = AllChem.GenerateDepictionMatching2DStructure(m,template)"
   ]
  },
  {
   "cell_type": "code",
   "execution_count": null,
   "id": "d687e169-dbec-402c-a1cb-18f858a49a5c",
   "metadata": {},
   "outputs": [],
   "source": []
  }
 ],
 "metadata": {
  "kernelspec": {
   "display_name": "Python 3 (ipykernel)",
   "language": "python",
   "name": "python3"
  },
  "language_info": {
   "codemirror_mode": {
    "name": "ipython",
    "version": 3
   },
   "file_extension": ".py",
   "mimetype": "text/x-python",
   "name": "python",
   "nbconvert_exporter": "python",
   "pygments_lexer": "ipython3",
   "version": "3.10.4"
  }
 },
 "nbformat": 4,
 "nbformat_minor": 5
}
