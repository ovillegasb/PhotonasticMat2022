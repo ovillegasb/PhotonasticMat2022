{
 "cells": [
  {
   "cell_type": "code",
   "execution_count": 1,
   "id": "fbd346bf",
   "metadata": {},
   "outputs": [
    {
     "data": {
      "application/vnd.jupyter.widget-view+json": {
       "model_id": "bef25fa210ef4d4bbfd9f1d95808ce6f",
       "version_major": 2,
       "version_minor": 0
      },
      "text/plain": []
     },
     "metadata": {},
     "output_type": "display_data"
    }
   ],
   "source": [
    "import nglview as nv\n",
    "from pymatgen.core.structure import Molecule"
   ]
  },
  {
   "cell_type": "code",
   "execution_count": 2,
   "id": "92339885",
   "metadata": {},
   "outputs": [
    {
     "name": "stdout",
     "output_type": "stream",
     "text": [
      "<class 'nglview.widget.NGLWidget'>\n"
     ]
    }
   ],
   "source": [
    "w = nv.show_file(\"../test/xyz/azobenzene.xyz\")\n",
    "print(type(w))"
   ]
  },
  {
   "cell_type": "code",
   "execution_count": 6,
   "id": "b697441e",
   "metadata": {},
   "outputs": [],
   "source": [
    "#import nglview\n",
    "#view = nglview.show_pdbid(\"3pqr\")  # load \"3pqr\" from RCSB PDB and display viewer widget\n",
    "#view"
   ]
  },
  {
   "cell_type": "code",
   "execution_count": 3,
   "id": "a52cd1b1",
   "metadata": {},
   "outputs": [],
   "source": [
    "mol = Molecule.from_file(\"../test/xyz/azobenzene.xyz\")"
   ]
  },
  {
   "cell_type": "code",
   "execution_count": 4,
   "id": "004f9818-25e0-4b78-82b7-b19f8f8fcea6",
   "metadata": {},
   "outputs": [
    {
     "data": {
      "application/vnd.jupyter.widget-view+json": {
       "model_id": "6ac2894bc61148fb9955bafc88feb9e5",
       "version_major": 2,
       "version_minor": 0
      },
      "text/plain": [
       "NGLWidget()"
      ]
     },
     "metadata": {},
     "output_type": "display_data"
    }
   ],
   "source": [
    "view = nv.show_pymatgen(mol)\n",
    "view"
   ]
  },
  {
   "cell_type": "code",
   "execution_count": 5,
   "id": "fc86f1e2-faeb-463c-ab7d-3de4d7336ac1",
   "metadata": {},
   "outputs": [
    {
     "data": {
      "application/vnd.jupyter.widget-view+json": {
       "model_id": "6ac2894bc61148fb9955bafc88feb9e5",
       "version_major": 2,
       "version_minor": 0
      },
      "text/plain": [
       "NGLWidget(n_components=1)"
      ]
     },
     "metadata": {},
     "output_type": "display_data"
    }
   ],
   "source": [
    "view.clear()\n",
    "view.add_representation(\"ball+stick\")\n",
    "view"
   ]
  },
  {
   "cell_type": "markdown",
   "id": "54a7edca-1906-47fa-a142-e3653c64ed86",
   "metadata": {},
   "source": [
    "## Some note about NGLView"
   ]
  },
  {
   "cell_type": "markdown",
   "id": "272761db-1b0e-4345-afc9-e2977a25a6a5",
   "metadata": {},
   "source": [
    "Let’s render an image of this view with the following parameters:\n",
    "\n",
    "    trim=True removes the blank padding around the molecule\n",
    "\n",
    "    factor=2 asks for a 2x resolution render for higher quality, but not too much (default is 4x)\n",
    "\n",
    "    view.render_image(trim=True, factor=2)\n",
    "    \n",
    "    view._display_image()\n",
    "    \n",
    "    view.add_spacefill(\"ligand and _Ir\")\n",
    "    \n",
    "    view.add_distance(atom_pair=[[\"223.CA\", \"200.CA\"]], label_color=\"black\")\n",
    "    \n",
    "    # Add volume for residues 0-50\n",
    "    view.add_surface(\"0-50\")\n",
    "\n",
    "    view.shape.add_sphere?\n",
    "\n",
    "    view.picked\n",
    "\n",
    "    if \"atom1\" in view.picked:\n",
    "        sphere = view.shape.add_sphere(\n",
    "            [view.picked[\"atom1\"][\"x\"], view.picked[\"atom1\"][\"y\"], view.picked[\"atom1\"][\"z\"]],\n",
    "        [0.5, 0.5, 0.5],\n",
    "        10,\n",
    "        \"gray sphere with 10A radius\",\n",
    "        )\n",
    "\n",
    "\n",
    "    # The sphere is the last thing we added, so the component index is the last one (n_components - 1)\n",
    "    view.update_representation(component=view.n_components - 1, opacity=0.5)\n",
    "    \n",
    "    # This is the default one, Interactif interface\n",
    "    nv.show_pdbid(\"1RFO\", gui=True)\n",
    "    \n",
    "    def show_one_model_only(view, model_id):\n",
    "        view.clear()\n",
    "        view.add_ribbon(f\"/{model_id}\")\n",
    "        \n",
    "    \n",
    "    show_one_model_only(view, 1)\n",
    "    \n",
    "    from ipywidgets import interact, fixed\n",
    "\n",
    "    interact(show_one_model_only, view=fixed(view), model_id=(0, 9))\n",
    "    view\n",
    "\n",
    "    representations = [\"backbone\", \"ball+stick\", \"line\", \"point\", \"ribbon\"]\n",
    "\n",
    "\n",
    "    def change_representation(view, representation):\n",
    "        view.clear()\n",
    "        view.add_representation(representation)\n",
    "\n",
    "\n",
    "    view = view = nv.show_pdbid(\"1LEG\")\n",
    "    interact(change_representation, view=fixed(view), representation=representations)\n",
    "    view\n",
    "    \n",
    "    \n",
    "    def change_coloring(view, coloring):\n",
    "    view.clear()\n",
    "    view.add_representation(\"ribbon\", color_scheme=coloring)\n",
    "\n",
    "\n",
    "    view = view = nv.show_pdbid(\"1HND\")\n",
    "    interact(change_coloring, view=fixed(view), coloring=nv.color.COLOR_SCHEMES[1:])\n",
    "    view"
   ]
  },
  {
   "cell_type": "code",
   "execution_count": null,
   "id": "99204f46-2e8e-45e1-bbd5-0c111964a753",
   "metadata": {},
   "outputs": [],
   "source": []
  }
 ],
 "metadata": {
  "kernelspec": {
   "display_name": "Python 3 (ipykernel)",
   "language": "python",
   "name": "python3"
  },
  "language_info": {
   "codemirror_mode": {
    "name": "ipython",
    "version": 3
   },
   "file_extension": ".py",
   "mimetype": "text/x-python",
   "name": "python",
   "nbconvert_exporter": "python",
   "pygments_lexer": "ipython3",
   "version": "3.9.12"
  },
  "toc-autonumbering": false,
  "toc-showmarkdowntxt": false
 },
 "nbformat": 4,
 "nbformat_minor": 5
}
