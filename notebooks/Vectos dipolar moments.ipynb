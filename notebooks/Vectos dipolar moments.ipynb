{
 "cells": [
  {
   "cell_type": "markdown",
   "id": "7fcbd2aa-be7d-46ca-af0e-ce7659931637",
   "metadata": {},
   "source": [
    "# Vectors dipolar moments in aggregates"
   ]
  },
  {
   "cell_type": "code",
   "execution_count": 1,
   "id": "694db9a5-b93a-4d93-a6db-241a1409702e",
   "metadata": {},
   "outputs": [
    {
     "data": {
      "application/vnd.jupyter.widget-view+json": {
       "model_id": "257c8b64689f4d6196318388f7b69c59",
       "version_major": 2,
       "version_minor": 0
      },
      "text/plain": []
     },
     "metadata": {},
     "output_type": "display_data"
    }
   ],
   "source": [
    "import mdtraj as md\n",
    "import nglview as nv\n",
    "import numpy as np\n",
    "import os\n",
    "from scipy.constants import e"
   ]
  },
  {
   "cell_type": "code",
   "execution_count": 2,
   "id": "2cab6c6d-0680-4e41-8804-3ad4e5f96fdd",
   "metadata": {},
   "outputs": [],
   "source": [
    "os.chdir(\"/run/media/ovillegas/My Passport/LAPTOP Oblivion/ovillegas/Documents/PYRENE_backup/exp.asp.sol\")"
   ]
  },
  {
   "cell_type": "code",
   "execution_count": 3,
   "id": "5347380e-ceba-48ce-9cef-6107fa1dc361",
   "metadata": {},
   "outputs": [],
   "source": [
    "os.chdir(\"aggregate_solvent/A12.THF/80/md/clusters_info\")"
   ]
  },
  {
   "cell_type": "code",
   "execution_count": 9,
   "id": "a9eedfd6-5daf-460e-89ed-9ff187ed5d68",
   "metadata": {},
   "outputs": [],
   "source": [
    "# my params\n",
    "config = {'type': 'ball+stick',\n",
    " 'params': {'lazy': False,\n",
    "  'visible': True,\n",
    "  'quality': 'high',\n",
    "  'sphereDetail': 2,\n",
    "  'radialSegments': 20,\n",
    "  'openEnded': True,\n",
    "  'disableImpostor': False,\n",
    "  'aspectRatio': 1.5,\n",
    "  'lineOnly': False,\n",
    "  'cylinderOnly': False,\n",
    "  'multipleBond': 'off',\n",
    "  'bondScale': 0.3,\n",
    "  'bondSpacing': 0.75,\n",
    "  'linewidth': 2,\n",
    "  'radiusType': 'size',\n",
    "  'radiusData': {},\n",
    "  'radiusSize': 0.15,\n",
    "  'radiusScale': 2,\n",
    "  'assembly': 'default',\n",
    "  'defaultAssembly': '',\n",
    "  'clipNear': 0,\n",
    "  'clipRadius': 0,\n",
    "  'clipCenter': {'x': 0, 'y': 0, 'z': 0},\n",
    "  'flatShaded': False,\n",
    "  'opacity': 0.4,\n",
    "  'depthWrite': True,\n",
    "  'side': 'double',\n",
    "  'wireframe': False,\n",
    "  'colorScheme': 'element',\n",
    "  'colorScale': '',\n",
    "  'colorReverse': False,\n",
    "  'colorValue': 9474192,\n",
    "  'colorMode': 'hcl',\n",
    "  'roughness': 0.4,\n",
    "  'metalness': 0,\n",
    "  'diffuse': 16777215,\n",
    "  'diffuseInterior': False,\n",
    "  'useInteriorColor': True,\n",
    "  'interiorColor': 2236962,\n",
    "  'interiorDarkening': 0,\n",
    "  'matrix': {'elements': [1, 0, 0, 0, 0, 1, 0, 0, 0, 0, 1, 0, 0, 0, 0, 1]},\n",
    "  'disablePicking': False,\n",
    "  'sele': ''}}"
   ]
  },
  {
   "cell_type": "code",
   "execution_count": 20,
   "id": "49eb4f70-22f4-40dc-ae7f-3cc81a22dab9",
   "metadata": {},
   "outputs": [],
   "source": [
    "def dipolar_momentum(coord, charges, n=1):\n",
    "    mu_xyz = (coord.T * charges).T * (4.8 / 1.6e-29) * e * 1e-9\n",
    "    mu_xyz = np.sum(mu_xyz, axis=0) / n\n",
    "    return mu_xyz\n",
    "\n",
    "def show_gro(file, n=1, vec=True):\n",
    "    traj = md.load(file, top=file)\n",
    "    \n",
    "    t = nv.MDTrajTrajectory(traj)\n",
    "    w = nv.NGLWidget(t)\n",
    "    w.update_representation(opacity=0.4)\n",
    "    if vec:\n",
    "        if n > 1:\n",
    "            w.representations = [config]\n",
    "            top = traj.topology\n",
    "            atomsndx = top.select(\"resname A12\")\n",
    "            atomstot = int(len(top.select(\"resname A12\")) / n)\n",
    "        \n",
    "            for i in range(n):\n",
    "                mol = atomsndx[0+i*atomstot:atomstot+i*atomstot]\n",
    "                tmol = traj.atom_slice(mol)\n",
    "            \n",
    "                cm = md.compute_center_of_mass(tmol)[0] * 10\n",
    "                vec_dipol = dipolar_momentum(tmol.xyz[0], charges) + cm\n",
    "        \n",
    "                w.shape.add_sphere(cm, [0.36078431, 0.72156863, 0.36078431], 1.0)\n",
    "                w.shape.add_arrow(cm, vec_dipol, [0, 0.4, 0.8], 0.5)\n",
    "                \n",
    "        elif n == 1:\n",
    "            cm = md.compute_center_of_mass(traj)[0] * 10\n",
    "            vec_dipol = dipolar_momentum(traj.xyz[0], charges) + cm\n",
    "            w.shape.add_sphere(cm, [0.36078431, 0.72156863, 0.36078431], 1.0)\n",
    "            w.shape.add_arrow(cm, vec_dipol, [0, 0.4, 0.8], 0.5)\n",
    "    \n",
    "    return w\n",
    "\n",
    "def get_file(n):\n",
    "    for i in os.listdir():\n",
    "        if i.endswith(\".gro\"):\n",
    "            aggiframe, nmol, _ = i.split(\"_\")\n",
    "            if int(nmol) == n:\n",
    "                print(i)"
   ]
  },
  {
   "cell_type": "code",
   "execution_count": 13,
   "id": "756dbc71-dc16-45ad-b5bb-6be7ab02e5ff",
   "metadata": {},
   "outputs": [],
   "source": [
    "charges = np.genfromtxt(\"../../a12.itp\", skip_header=17, skip_footer=340)[:, 6]"
   ]
  },
  {
   "cell_type": "code",
   "execution_count": 14,
   "id": "dd0bfb3e-d457-4a49-a458-199da79877b5",
   "metadata": {},
   "outputs": [],
   "source": [
    "w = show_gro(\"aggr2270_1_150.gro\")"
   ]
  },
  {
   "cell_type": "code",
   "execution_count": 15,
   "id": "ebb302bc-c300-4ead-8538-97529276499b",
   "metadata": {},
   "outputs": [
    {
     "data": {
      "application/vnd.jupyter.widget-view+json": {
       "model_id": "8e9f1170679a4160a3843ee94e18f758",
       "version_major": 2,
       "version_minor": 0
      },
      "text/plain": [
       "NGLWidget()"
      ]
     },
     "metadata": {},
     "output_type": "display_data"
    }
   ],
   "source": [
    "w"
   ]
  },
  {
   "cell_type": "code",
   "execution_count": 16,
   "id": "0bab3e64-754e-4550-b96b-c464a5bd2f3b",
   "metadata": {},
   "outputs": [
    {
     "data": {
      "application/vnd.jupyter.widget-view+json": {
       "model_id": "4ca10344d6cf4f7b80be122ef3780b81",
       "version_major": 2,
       "version_minor": 0
      },
      "text/plain": [
       "NGLWidget()"
      ]
     },
     "metadata": {},
     "output_type": "display_data"
    }
   ],
   "source": [
    "show_gro(\"aggr210_1_20.gro\", n=1, vec=True)"
   ]
  },
  {
   "cell_type": "code",
   "execution_count": 187,
   "id": "2b48642b-af04-4c3e-90ad-4615de496011",
   "metadata": {},
   "outputs": [
    {
     "name": "stdout",
     "output_type": "stream",
     "text": [
      "aggr2410_5_153.gro\n",
      "aggr2145_5_145.gro\n"
     ]
    }
   ],
   "source": [
    "get_file(5)"
   ]
  },
  {
   "cell_type": "code",
   "execution_count": 21,
   "id": "a651ead5-61c5-4997-845f-310a7f432018",
   "metadata": {},
   "outputs": [],
   "source": [
    "w = show_gro(\"aggr2410_5_153.gro\", n=5, vec=True)"
   ]
  },
  {
   "cell_type": "code",
   "execution_count": 22,
   "id": "60f5fc95-c559-4097-b219-f5e6f56450bc",
   "metadata": {},
   "outputs": [
    {
     "data": {
      "application/vnd.jupyter.widget-view+json": {
       "model_id": "1fc6786fd9db4c5fa8e92274430f5262",
       "version_major": 2,
       "version_minor": 0
      },
      "text/plain": [
       "NGLWidget()"
      ]
     },
     "metadata": {},
     "output_type": "display_data"
    }
   ],
   "source": [
    "w"
   ]
  },
  {
   "cell_type": "code",
   "execution_count": 11,
   "id": "565a458b-8ae0-4c25-89f4-ffbc82ef773c",
   "metadata": {},
   "outputs": [],
   "source": [
    "# w.get_state()"
   ]
  },
  {
   "cell_type": "code",
   "execution_count": 209,
   "id": "f6aa5eaa-b22f-4a9b-9e85-8d6e7e8f788d",
   "metadata": {},
   "outputs": [],
   "source": [
    "w.update_representation(opacity=0.4, component=1)"
   ]
  },
  {
   "cell_type": "code",
   "execution_count": 204,
   "id": "cd3e87fb-7d44-445b-84ca-30b37e933164",
   "metadata": {},
   "outputs": [],
   "source": [
    "w.download_image(\"a12_5mol_mu.png\", factor=8, antialias=True, transparent=True)"
   ]
  },
  {
   "cell_type": "code",
   "execution_count": null,
   "id": "c34aef7a-8e3e-4f1f-a224-5a2fc29a3459",
   "metadata": {},
   "outputs": [],
   "source": []
  },
  {
   "cell_type": "code",
   "execution_count": 115,
   "id": "beeb2b33-22ba-4f5b-a9ec-9c779831c204",
   "metadata": {},
   "outputs": [],
   "source": [
    "w.download_image(\"a12_1mol_mu.png\", factor=8, antialias=True, transparent=True)"
   ]
  },
  {
   "cell_type": "code",
   "execution_count": 173,
   "id": "0d3ab72d-7379-4f00-9d63-0de9659ce59c",
   "metadata": {},
   "outputs": [],
   "source": [
    "w = show_gro(\"aggr2410_5_153.gro\", n=5, vec=False)\n",
    "w.update_representation(opacity=0.4)"
   ]
  },
  {
   "cell_type": "code",
   "execution_count": 179,
   "id": "2e7467d2-b9fa-438b-a61d-4ba3f5542114",
   "metadata": {},
   "outputs": [],
   "source": [
    "w.update_representation(repr_type=\"ball+stick\", selection='resname A12', opacity=0.3)"
   ]
  },
  {
   "cell_type": "code",
   "execution_count": 181,
   "id": "2cad86d2-96b1-403f-b633-8368be598217",
   "metadata": {},
   "outputs": [
    {
     "data": {
      "text/plain": [
       "{}"
      ]
     },
     "execution_count": 181,
     "metadata": {},
     "output_type": "execute_result"
    }
   ],
   "source": [
    "w.picked"
   ]
  },
  {
   "cell_type": "code",
   "execution_count": 108,
   "id": "33517ecf-1a13-4ea7-aebe-7c4920e45904",
   "metadata": {},
   "outputs": [
    {
     "data": {
      "text/plain": [
       "array([0.36078431, 0.72156863, 0.36078431])"
      ]
     },
     "execution_count": 108,
     "metadata": {},
     "output_type": "execute_result"
    }
   ],
   "source": [
    "np.array([92,184,92]) / 255"
   ]
  },
  {
   "cell_type": "code",
   "execution_count": 44,
   "id": "9eb43dd2-4d57-4011-be01-6812a0f1013b",
   "metadata": {},
   "outputs": [
    {
     "data": {
      "text/plain": [
       "\u001b[0;31mSignature:\u001b[0m \u001b[0mw\u001b[0m\u001b[0;34m.\u001b[0m\u001b[0mshape\u001b[0m\u001b[0;34m.\u001b[0m\u001b[0madd_sphere\u001b[0m\u001b[0;34m(\u001b[0m\u001b[0;34m*\u001b[0m\u001b[0margs\u001b[0m\u001b[0;34m)\u001b[0m\u001b[0;34m\u001b[0m\u001b[0;34m\u001b[0m\u001b[0m\n",
       "\u001b[0;31mDocstring:\u001b[0m\n",
       "# add_sphere(position, color, radius, name)\n",
       ">>> shape.add_sphere([0, 0, 9], [1, 0, 0], 1.5)\n",
       "\u001b[0;31mFile:\u001b[0m      ~/anaconda3/envs/SimMOL/lib/python3.9/site-packages/nglview/shape.py\n",
       "\u001b[0;31mType:\u001b[0m      method\n"
      ]
     },
     "metadata": {},
     "output_type": "display_data"
    }
   ],
   "source": [
    "w.shape.add_sphere?"
   ]
  },
  {
   "cell_type": "code",
   "execution_count": 79,
   "id": "b5743d8d-6ad6-49c1-9aa4-48d3b9b1f679",
   "metadata": {},
   "outputs": [],
   "source": [
    "charges = np.genfromtxt(\"../../a12.itp\", skip_header=17, skip_footer=340)[:, 6]"
   ]
  },
  {
   "cell_type": "code",
   "execution_count": 83,
   "id": "f405c047-972d-4478-943d-04390f2a380a",
   "metadata": {},
   "outputs": [
    {
     "data": {
      "text/plain": [
       "array([ 0.   ,  0.   , -0.14 ,  0.177, -0.635,  0.386,  0.14 ,  0.14 ,\n",
       "        0.   ,  0.   ,  0.   ,  0.   ,  0.   ,  0.   ,  0.   , -0.14 ,\n",
       "        0.   ,  0.   ,  0.14 ,  0.068,  0.   ,  0.   ,  0.   , -0.136,\n",
       "        0.   ,  0.   ,  0.   ,  0.   , -0.14 ,  0.   ,  0.   ,  0.075,\n",
       "        0.   ,  0.14 , -0.495,  0.   ,  0.   ,  0.   ,  0.   ,  0.   ,\n",
       "        0.   ,  0.   ,  0.   ,  0.   ,  0.   ,  0.   ,  0.   ,  0.   ,\n",
       "        0.   ,  0.42 ])"
      ]
     },
     "execution_count": 83,
     "metadata": {},
     "output_type": "execute_result"
    }
   ],
   "source": [
    "charges"
   ]
  },
  {
   "cell_type": "code",
   "execution_count": 94,
   "id": "1d4380dd-ec7a-44fc-bb64-12ea4352bd23",
   "metadata": {},
   "outputs": [
    {
     "data": {
      "text/plain": [
       "array([-3.04748447, -1.8411873 ,  4.48824558])"
      ]
     },
     "execution_count": 94,
     "metadata": {},
     "output_type": "execute_result"
    }
   ],
   "source": [
    "dipolar_momentum(t.xyz[0], charges)"
   ]
  },
  {
   "cell_type": "code",
   "execution_count": 190,
   "id": "a43aca20-b7c2-412b-a66a-84099620ec70",
   "metadata": {},
   "outputs": [],
   "source": [
    "t = md.load('aggr2270_1_150.gro', top='aggr2270_1_150.gro')"
   ]
  },
  {
   "cell_type": "code",
   "execution_count": 34,
   "id": "5b37aa4c-aff8-49e2-98ef-60c4723268b2",
   "metadata": {},
   "outputs": [],
   "source": [
    "top = t.topology"
   ]
  },
  {
   "cell_type": "code",
   "execution_count": 35,
   "id": "75c3287d-9be9-4f6f-a5b6-82203fd69060",
   "metadata": {},
   "outputs": [],
   "source": [
    "table, bonds = top.to_dataframe()"
   ]
  },
  {
   "cell_type": "code",
   "execution_count": 50,
   "id": "8173fa04-732e-4933-8fcd-976da9d3e79f",
   "metadata": {},
   "outputs": [
    {
     "data": {
      "text/plain": [
       "array([9.24469894, 1.06756786, 9.52172216])"
      ]
     },
     "execution_count": 50,
     "metadata": {},
     "output_type": "execute_result"
    }
   ],
   "source": [
    "md.compute_center_of_mass(t)[0]"
   ]
  },
  {
   "cell_type": "code",
   "execution_count": 6,
   "id": "fb51314b-e880-4991-bd13-767c599902ff",
   "metadata": {},
   "outputs": [],
   "source": [
    "# aggr2270_1_150.gro\n",
    "# aggr2410_5_153.gro\n",
    "t = md.load('aggr2410_5_153.gro', top='aggr2410_5_153.gro')\n",
    "t = nv.MDTrajTrajectory(t)\n",
    "w = nv.NGLWidget(t, gui=False)"
   ]
  },
  {
   "cell_type": "code",
   "execution_count": 7,
   "id": "e3dd3e48-f18d-4fef-a8d9-43702740fca4",
   "metadata": {},
   "outputs": [
    {
     "data": {
      "application/vnd.jupyter.widget-view+json": {
       "model_id": "03a9b794af10434d9deda21404ab5210",
       "version_major": 2,
       "version_minor": 0
      },
      "text/plain": [
       "NGLWidget()"
      ]
     },
     "metadata": {},
     "output_type": "display_data"
    }
   ],
   "source": [
    "w"
   ]
  },
  {
   "cell_type": "code",
   "execution_count": 8,
   "id": "20bbb043-0fd1-4557-bf19-b5701fafa2a8",
   "metadata": {},
   "outputs": [],
   "source": [
    "w.representations = [config]"
   ]
  },
  {
   "cell_type": "code",
   "execution_count": 331,
   "id": "652e78f9-ae54-4bc1-b63b-ba70e3b3866b",
   "metadata": {},
   "outputs": [],
   "source": [
    "# w.update_representation(opacity=0.4)"
   ]
  },
  {
   "cell_type": "code",
   "execution_count": 311,
   "id": "fed0e949-5a1e-47d7-836e-41e3ae0e132b",
   "metadata": {},
   "outputs": [],
   "source": [
    "#w.update_representation(component=1, opacity=0.4)\n",
    "# w.remove_cartoon()\n",
    "#w.remove_ball_and_stick()"
   ]
  },
  {
   "cell_type": "code",
   "execution_count": 291,
   "id": "558e60b3-79c7-49be-99f7-5f15251c54ad",
   "metadata": {},
   "outputs": [],
   "source": [
    "# w.get_state()['_ngl_msg_archive']"
   ]
  },
  {
   "cell_type": "code",
   "execution_count": 336,
   "id": "73002045-fa13-41f3-9a73-4e773d6a1a79",
   "metadata": {},
   "outputs": [],
   "source": [
    "w.representations = [\n",
    "{'type': 'ball+stick',\n",
    " 'params': {'lazy': False,\n",
    "  'visible': True,\n",
    "  'quality': 'high',\n",
    "  'sphereDetail': 2,\n",
    "  'radialSegments': 20,\n",
    "  'openEnded': True,\n",
    "  'disableImpostor': False,\n",
    "  'aspectRatio': 1.5,\n",
    "  'lineOnly': False,\n",
    "  'cylinderOnly': False,\n",
    "  'multipleBond': 'off',\n",
    "  'bondScale': 0.3,\n",
    "  'bondSpacing': 0.75,\n",
    "  'linewidth': 2,\n",
    "  'radiusType': 'size',\n",
    "  'radiusData': {},\n",
    "  'radiusSize': 0.15,\n",
    "  'radiusScale': 2,\n",
    "  'assembly': 'default',\n",
    "  'defaultAssembly': '',\n",
    "  'clipNear': 0,\n",
    "  'clipRadius': 0,\n",
    "  'clipCenter': {'x': 0, 'y': 0, 'z': 0},\n",
    "  'flatShaded': False,\n",
    "  'opacity': 0.4,\n",
    "  'depthWrite': True,\n",
    "  'side': 'double',\n",
    "  'wireframe': False,\n",
    "  'colorScheme': 'element',\n",
    "  'colorScale': '',\n",
    "  'colorReverse': False,\n",
    "  'colorValue': 9474192,\n",
    "  'colorMode': 'hcl',\n",
    "  'roughness': 0.4,\n",
    "  'metalness': 0,\n",
    "  'diffuse': 16777215,\n",
    "  'diffuseInterior': False,\n",
    "  'useInteriorColor': True,\n",
    "  'interiorColor': 2236962,\n",
    "  'interiorDarkening': 0,\n",
    "  'matrix': {'elements': [1, 0, 0, 0, 0, 1, 0, 0, 0, 0, 1, 0, 0, 0, 0, 1]},\n",
    "  'disablePicking': False,\n",
    "  'sele': ''}}\n",
    "]"
   ]
  },
  {
   "cell_type": "code",
   "execution_count": 324,
   "id": "287e394d-6e24-460e-b80a-7401e95f8abb",
   "metadata": {},
   "outputs": [],
   "source": [
    "w.representations = [\n",
    "    {\"type\": 'ball+stick',\n",
    "     \"params\" : {\n",
    "         \"opacity\": 0.4\n",
    "     }}\n",
    "]"
   ]
  },
  {
   "cell_type": "code",
   "execution_count": 332,
   "id": "bc3cb552-9348-4a29-921c-b69d7838d660",
   "metadata": {},
   "outputs": [
    {
     "data": {
      "text/plain": [
       "{'type': 'ball+stick',\n",
       " 'params': {'lazy': False,\n",
       "  'visible': True,\n",
       "  'quality': 'high',\n",
       "  'sphereDetail': 2,\n",
       "  'radialSegments': 20,\n",
       "  'openEnded': True,\n",
       "  'disableImpostor': False,\n",
       "  'aspectRatio': 1.5,\n",
       "  'lineOnly': False,\n",
       "  'cylinderOnly': False,\n",
       "  'multipleBond': 'off',\n",
       "  'bondScale': 0.3,\n",
       "  'bondSpacing': 0.75,\n",
       "  'linewidth': 2,\n",
       "  'radiusType': 'size',\n",
       "  'radiusData': {},\n",
       "  'radiusSize': 0.15,\n",
       "  'radiusScale': 2,\n",
       "  'assembly': 'default',\n",
       "  'defaultAssembly': '',\n",
       "  'clipNear': 0,\n",
       "  'clipRadius': 0,\n",
       "  'clipCenter': {'x': 0, 'y': 0, 'z': 0},\n",
       "  'flatShaded': False,\n",
       "  'opacity': 0.4,\n",
       "  'depthWrite': True,\n",
       "  'side': 'double',\n",
       "  'wireframe': False,\n",
       "  'colorScheme': 'element',\n",
       "  'colorScale': '',\n",
       "  'colorReverse': False,\n",
       "  'colorValue': 9474192,\n",
       "  'colorMode': 'hcl',\n",
       "  'roughness': 0.4,\n",
       "  'metalness': 0,\n",
       "  'diffuse': 16777215,\n",
       "  'diffuseInterior': False,\n",
       "  'useInteriorColor': True,\n",
       "  'interiorColor': 2236962,\n",
       "  'interiorDarkening': 0,\n",
       "  'matrix': {'elements': [1, 0, 0, 0, 0, 1, 0, 0, 0, 0, 1, 0, 0, 0, 0, 1]},\n",
       "  'disablePicking': False,\n",
       "  'sele': ''}}"
      ]
     },
     "execution_count": 332,
     "metadata": {},
     "output_type": "execute_result"
    }
   ],
   "source": [
    "w.get_state()['_ngl_repr_dict']['0']['0']"
   ]
  },
  {
   "cell_type": "code",
   "execution_count": 317,
   "id": "f3198b1e-a3fb-4abe-b06c-55d9dfde4d31",
   "metadata": {},
   "outputs": [
    {
     "data": {
      "text/plain": [
       "{'0': {'0': {'type': 'cartoon',\n",
       "   'params': {'lazy': False,\n",
       "    'visible': True,\n",
       "    'quality': 'high',\n",
       "    'aspectRatio': 5,\n",
       "    'subdiv': 6,\n",
       "    'radialSegments': 20,\n",
       "    'tension': None,\n",
       "    'capped': True,\n",
       "    'smoothSheet': False,\n",
       "    'radiusType': 'sstruc',\n",
       "    'radiusData': {},\n",
       "    'radiusSize': 1,\n",
       "    'radiusScale': 0.7,\n",
       "    'assembly': 'default',\n",
       "    'defaultAssembly': '',\n",
       "    'clipNear': 0,\n",
       "    'clipRadius': 0,\n",
       "    'clipCenter': {'x': 0, 'y': 0, 'z': 0},\n",
       "    'flatShaded': False,\n",
       "    'opacity': 1,\n",
       "    'depthWrite': True,\n",
       "    'side': 'double',\n",
       "    'wireframe': False,\n",
       "    'colorScheme': 'residueindex',\n",
       "    'colorScale': 'spectral',\n",
       "    'colorReverse': True,\n",
       "    'colorValue': 9474192,\n",
       "    'colorMode': 'hcl',\n",
       "    'roughness': 0.4,\n",
       "    'metalness': 0,\n",
       "    'diffuse': 16777215,\n",
       "    'diffuseInterior': False,\n",
       "    'useInteriorColor': True,\n",
       "    'interiorColor': 2236962,\n",
       "    'interiorDarkening': 0,\n",
       "    'matrix': {'elements': [1, 0, 0, 0, 0, 1, 0, 0, 0, 0, 1, 0, 0, 0, 0, 1]},\n",
       "    'disablePicking': False,\n",
       "    'sele': ''}},\n",
       "  '1': {'type': 'base',\n",
       "   'params': {'lazy': False,\n",
       "    'visible': True,\n",
       "    'quality': 'high',\n",
       "    'sphereDetail': 2,\n",
       "    'radialSegments': 20,\n",
       "    'openEnded': True,\n",
       "    'disableImpostor': False,\n",
       "    'aspectRatio': 1,\n",
       "    'lineOnly': False,\n",
       "    'cylinderOnly': False,\n",
       "    'bondScale': 0.4,\n",
       "    'linewidth': 2,\n",
       "    'radiusType': 'size',\n",
       "    'radiusData': {},\n",
       "    'radiusSize': 0.3,\n",
       "    'radiusScale': 1,\n",
       "    'assembly': 'default',\n",
       "    'defaultAssembly': '',\n",
       "    'clipNear': 0,\n",
       "    'clipRadius': 0,\n",
       "    'clipCenter': {'x': 0, 'y': 0, 'z': 0},\n",
       "    'flatShaded': False,\n",
       "    'opacity': 1,\n",
       "    'depthWrite': True,\n",
       "    'side': 'double',\n",
       "    'wireframe': False,\n",
       "    'colorScheme': 'residueindex',\n",
       "    'colorScale': 'spectral',\n",
       "    'colorReverse': True,\n",
       "    'colorValue': 9474192,\n",
       "    'colorMode': 'hcl',\n",
       "    'roughness': 0.4,\n",
       "    'metalness': 0,\n",
       "    'diffuse': 16777215,\n",
       "    'diffuseInterior': False,\n",
       "    'useInteriorColor': True,\n",
       "    'interiorColor': 2236962,\n",
       "    'interiorDarkening': 0,\n",
       "    'matrix': {'elements': [1, 0, 0, 0, 0, 1, 0, 0, 0, 0, 1, 0, 0, 0, 0, 1]},\n",
       "    'disablePicking': False,\n",
       "    'sele': ''}},\n",
       "  '2': {'type': 'ball+stick',\n",
       "   'params': {'lazy': False,\n",
       "    'visible': True,\n",
       "    'quality': 'high',\n",
       "    'sphereDetail': 2,\n",
       "    'radialSegments': 20,\n",
       "    'openEnded': True,\n",
       "    'disableImpostor': False,\n",
       "    'aspectRatio': 1.5,\n",
       "    'lineOnly': False,\n",
       "    'cylinderOnly': False,\n",
       "    'multipleBond': 'off',\n",
       "    'bondScale': 0.3,\n",
       "    'bondSpacing': 0.75,\n",
       "    'linewidth': 2,\n",
       "    'radiusType': 'size',\n",
       "    'radiusData': {},\n",
       "    'radiusSize': 0.15,\n",
       "    'radiusScale': 2,\n",
       "    'assembly': 'default',\n",
       "    'defaultAssembly': '',\n",
       "    'clipNear': 0,\n",
       "    'clipRadius': 0,\n",
       "    'clipCenter': {'x': 0, 'y': 0, 'z': 0},\n",
       "    'flatShaded': False,\n",
       "    'opacity': 1,\n",
       "    'depthWrite': True,\n",
       "    'side': 'double',\n",
       "    'wireframe': False,\n",
       "    'colorScheme': 'element',\n",
       "    'colorScale': '',\n",
       "    'colorReverse': False,\n",
       "    'colorValue': 9474192,\n",
       "    'colorMode': 'hcl',\n",
       "    'roughness': 0.4,\n",
       "    'metalness': 0,\n",
       "    'diffuse': 16777215,\n",
       "    'diffuseInterior': False,\n",
       "    'useInteriorColor': True,\n",
       "    'interiorColor': 2236962,\n",
       "    'interiorDarkening': 0,\n",
       "    'matrix': {'elements': [1, 0, 0, 0, 0, 1, 0, 0, 0, 0, 1, 0, 0, 0, 0, 1]},\n",
       "    'disablePicking': False,\n",
       "    'sele': 'ligand'}}}}"
      ]
     },
     "execution_count": 317,
     "metadata": {},
     "output_type": "execute_result"
    }
   ],
   "source": [
    "w.get_state()['_ngl_repr_dict']"
   ]
  },
  {
   "cell_type": "code",
   "execution_count": 286,
   "id": "d521e159-a079-457d-92c5-77e1db522b6e",
   "metadata": {},
   "outputs": [
    {
     "data": {
      "text/plain": [
       "'cartoon'"
      ]
     },
     "execution_count": 286,
     "metadata": {},
     "output_type": "execute_result"
    }
   ],
   "source": [
    "w.get_state()['_ngl_repr_dict']['0']['0']['type']"
   ]
  },
  {
   "cell_type": "code",
   "execution_count": 287,
   "id": "bb0a08ea-2273-4048-bd30-4863bfc609bd",
   "metadata": {},
   "outputs": [
    {
     "data": {
      "text/plain": [
       "1"
      ]
     },
     "execution_count": 287,
     "metadata": {},
     "output_type": "execute_result"
    }
   ],
   "source": [
    "w.get_state()['_ngl_repr_dict']['0']['0']['params']['opacity']"
   ]
  },
  {
   "cell_type": "code",
   "execution_count": 263,
   "id": "c89725cd-6772-46aa-aa4a-7e4dbbe4641b",
   "metadata": {},
   "outputs": [
    {
     "data": {
      "application/vnd.jupyter.widget-view+json": {
       "model_id": "48eb72e248f04e6eae36143466671bde",
       "version_major": 2,
       "version_minor": 0
      },
      "text/plain": [
       "NGLWidget()"
      ]
     },
     "metadata": {},
     "output_type": "display_data"
    }
   ],
   "source": [
    "w = nv.NGLWidget()\n",
    "w"
   ]
  },
  {
   "cell_type": "code",
   "execution_count": 264,
   "id": "e58d3c6a-4ca0-4a7c-b984-1a2f2ad00d5e",
   "metadata": {},
   "outputs": [
    {
     "data": {
      "text/plain": [
       "<nglview.component.ComponentViewer at 0x7fe23c3210a0>"
      ]
     },
     "execution_count": 266,
     "metadata": {},
     "output_type": "execute_result"
    }
   ],
   "source": [
    "w.add_component(t, opacity)"
   ]
  },
  {
   "cell_type": "code",
   "execution_count": 228,
   "id": "977d1500-0772-41ce-a4ae-290cd88923d9",
   "metadata": {},
   "outputs": [
    {
     "data": {
      "text/plain": [
       "1"
      ]
     },
     "execution_count": 228,
     "metadata": {},
     "output_type": "execute_result"
    }
   ],
   "source": [
    "w.n_components"
   ]
  },
  {
   "cell_type": "code",
   "execution_count": 230,
   "id": "72a1e356-d2db-431e-acb2-c28969ebfa9c",
   "metadata": {},
   "outputs": [],
   "source": [
    "w.update_representation(component=0, opacity=0.4)"
   ]
  },
  {
   "cell_type": "code",
   "execution_count": null,
   "id": "018ac3fd-cecb-4dc9-837c-d1fdeb6f0b9b",
   "metadata": {},
   "outputs": [],
   "source": [
    "def show_gro(file):\n",
    "    t = md.load(file, top=file)\n",
    "    t = nv.MDTrajTrajectory(t)\n",
    "    w = nv.NGLWidget(t)\n",
    "    return w"
   ]
  }
 ],
 "metadata": {
  "kernelspec": {
   "display_name": "Python 3 (ipykernel)",
   "language": "python",
   "name": "python3"
  },
  "language_info": {
   "codemirror_mode": {
    "name": "ipython",
    "version": 3
   },
   "file_extension": ".py",
   "mimetype": "text/x-python",
   "name": "python",
   "nbconvert_exporter": "python",
   "pygments_lexer": "ipython3",
   "version": "3.9.12"
  }
 },
 "nbformat": 4,
 "nbformat_minor": 5
}
